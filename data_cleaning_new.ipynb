{
 "cells": [
  {
   "cell_type": "code",
   "execution_count": 254,
   "metadata": {},
   "outputs": [],
   "source": [
    "import pandas as pd\n",
    "import seaborn as sns\n",
    "import matplotlib.pyplot as plt\n",
    "\n",
    "import pandas as pd\n",
    "import numpy as np\n",
    "import warnings\n",
    "warnings.filterwarnings('ignore')"
   ]
  },
  {
   "cell_type": "code",
   "execution_count": 255,
   "metadata": {},
   "outputs": [
    {
     "data": {
      "text/html": [
       "<div>\n",
       "<style scoped>\n",
       "    .dataframe tbody tr th:only-of-type {\n",
       "        vertical-align: middle;\n",
       "    }\n",
       "\n",
       "    .dataframe tbody tr th {\n",
       "        vertical-align: top;\n",
       "    }\n",
       "\n",
       "    .dataframe thead th {\n",
       "        text-align: right;\n",
       "    }\n",
       "</style>\n",
       "<table border=\"1\" class=\"dataframe\">\n",
       "  <thead>\n",
       "    <tr style=\"text-align: right;\">\n",
       "      <th></th>\n",
       "      <th>ID</th>\n",
       "      <th>country</th>\n",
       "      <th>age_group</th>\n",
       "      <th>travel_with</th>\n",
       "      <th>total_female</th>\n",
       "      <th>total_male</th>\n",
       "      <th>purpose</th>\n",
       "      <th>main_activity</th>\n",
       "      <th>info_source</th>\n",
       "      <th>tour_arrangement</th>\n",
       "      <th>...</th>\n",
       "      <th>package_transport_tz</th>\n",
       "      <th>package_sightseeing</th>\n",
       "      <th>package_guided_tour</th>\n",
       "      <th>package_insurance</th>\n",
       "      <th>night_mainland</th>\n",
       "      <th>night_zanzibar</th>\n",
       "      <th>payment_mode</th>\n",
       "      <th>first_trip_tz</th>\n",
       "      <th>most_impressing</th>\n",
       "      <th>total_cost</th>\n",
       "    </tr>\n",
       "  </thead>\n",
       "  <tbody>\n",
       "    <tr>\n",
       "      <th>0</th>\n",
       "      <td>tour_0</td>\n",
       "      <td>SWIZERLAND</td>\n",
       "      <td>45-64</td>\n",
       "      <td>Friends/Relatives</td>\n",
       "      <td>1.0</td>\n",
       "      <td>1.0</td>\n",
       "      <td>Leisure and Holidays</td>\n",
       "      <td>Wildlife tourism</td>\n",
       "      <td>Friends, relatives</td>\n",
       "      <td>Independent</td>\n",
       "      <td>...</td>\n",
       "      <td>No</td>\n",
       "      <td>No</td>\n",
       "      <td>No</td>\n",
       "      <td>No</td>\n",
       "      <td>13.0</td>\n",
       "      <td>0.0</td>\n",
       "      <td>Cash</td>\n",
       "      <td>No</td>\n",
       "      <td>Friendly People</td>\n",
       "      <td>674602.5</td>\n",
       "    </tr>\n",
       "    <tr>\n",
       "      <th>1</th>\n",
       "      <td>tour_10</td>\n",
       "      <td>UNITED KINGDOM</td>\n",
       "      <td>25-44</td>\n",
       "      <td>NaN</td>\n",
       "      <td>1.0</td>\n",
       "      <td>0.0</td>\n",
       "      <td>Leisure and Holidays</td>\n",
       "      <td>Cultural tourism</td>\n",
       "      <td>others</td>\n",
       "      <td>Independent</td>\n",
       "      <td>...</td>\n",
       "      <td>No</td>\n",
       "      <td>No</td>\n",
       "      <td>No</td>\n",
       "      <td>No</td>\n",
       "      <td>14.0</td>\n",
       "      <td>7.0</td>\n",
       "      <td>Cash</td>\n",
       "      <td>Yes</td>\n",
       "      <td>Wonderful Country, Landscape, Nature</td>\n",
       "      <td>3214906.5</td>\n",
       "    </tr>\n",
       "    <tr>\n",
       "      <th>2</th>\n",
       "      <td>tour_1000</td>\n",
       "      <td>UNITED KINGDOM</td>\n",
       "      <td>25-44</td>\n",
       "      <td>Alone</td>\n",
       "      <td>0.0</td>\n",
       "      <td>1.0</td>\n",
       "      <td>Visiting Friends and Relatives</td>\n",
       "      <td>Cultural tourism</td>\n",
       "      <td>Friends, relatives</td>\n",
       "      <td>Independent</td>\n",
       "      <td>...</td>\n",
       "      <td>No</td>\n",
       "      <td>No</td>\n",
       "      <td>No</td>\n",
       "      <td>No</td>\n",
       "      <td>1.0</td>\n",
       "      <td>31.0</td>\n",
       "      <td>Cash</td>\n",
       "      <td>No</td>\n",
       "      <td>Excellent Experience</td>\n",
       "      <td>3315000.0</td>\n",
       "    </tr>\n",
       "  </tbody>\n",
       "</table>\n",
       "<p>3 rows × 23 columns</p>\n",
       "</div>"
      ],
      "text/plain": [
       "          ID         country age_group        travel_with  total_female  \\\n",
       "0     tour_0      SWIZERLAND     45-64  Friends/Relatives           1.0   \n",
       "1    tour_10  UNITED KINGDOM     25-44                NaN           1.0   \n",
       "2  tour_1000  UNITED KINGDOM     25-44              Alone           0.0   \n",
       "\n",
       "   total_male                         purpose     main_activity  \\\n",
       "0         1.0            Leisure and Holidays  Wildlife tourism   \n",
       "1         0.0            Leisure and Holidays  Cultural tourism   \n",
       "2         1.0  Visiting Friends and Relatives  Cultural tourism   \n",
       "\n",
       "          info_source tour_arrangement  ... package_transport_tz  \\\n",
       "0  Friends, relatives      Independent  ...                   No   \n",
       "1              others      Independent  ...                   No   \n",
       "2  Friends, relatives      Independent  ...                   No   \n",
       "\n",
       "  package_sightseeing package_guided_tour package_insurance night_mainland  \\\n",
       "0                  No                  No                No           13.0   \n",
       "1                  No                  No                No           14.0   \n",
       "2                  No                  No                No            1.0   \n",
       "\n",
       "  night_zanzibar payment_mode  first_trip_tz  \\\n",
       "0            0.0         Cash             No   \n",
       "1            7.0         Cash            Yes   \n",
       "2           31.0         Cash             No   \n",
       "\n",
       "                        most_impressing total_cost  \n",
       "0                       Friendly People   674602.5  \n",
       "1  Wonderful Country, Landscape, Nature  3214906.5  \n",
       "2                  Excellent Experience  3315000.0  \n",
       "\n",
       "[3 rows x 23 columns]"
      ]
     },
     "execution_count": 255,
     "metadata": {},
     "output_type": "execute_result"
    }
   ],
   "source": [
    "# Import data\n",
    "df=pd.read_csv('data/Train.csv')\n",
    "df.head(3)"
   ]
  },
  {
   "cell_type": "code",
   "execution_count": 256,
   "metadata": {},
   "outputs": [
    {
     "data": {
      "text/plain": [
       "(4809, 23)"
      ]
     },
     "execution_count": 256,
     "metadata": {},
     "output_type": "execute_result"
    }
   ],
   "source": [
    "df.shape"
   ]
  },
  {
   "cell_type": "markdown",
   "metadata": {},
   "source": [
    "# Data cleaning"
   ]
  },
  {
   "cell_type": "code",
   "execution_count": 257,
   "metadata": {},
   "outputs": [
    {
     "name": "stdout",
     "output_type": "stream",
     "text": [
      "<class 'pandas.core.frame.DataFrame'>\n",
      "RangeIndex: 4809 entries, 0 to 4808\n",
      "Data columns (total 23 columns):\n",
      " #   Column                 Non-Null Count  Dtype  \n",
      "---  ------                 --------------  -----  \n",
      " 0   ID                     4809 non-null   object \n",
      " 1   country                4809 non-null   object \n",
      " 2   age_group              4809 non-null   object \n",
      " 3   travel_with            3695 non-null   object \n",
      " 4   total_female           4806 non-null   float64\n",
      " 5   total_male             4804 non-null   float64\n",
      " 6   purpose                4809 non-null   object \n",
      " 7   main_activity          4809 non-null   object \n",
      " 8   info_source            4809 non-null   object \n",
      " 9   tour_arrangement       4809 non-null   object \n",
      " 10  package_transport_int  4809 non-null   object \n",
      " 11  package_accomodation   4809 non-null   object \n",
      " 12  package_food           4809 non-null   object \n",
      " 13  package_transport_tz   4809 non-null   object \n",
      " 14  package_sightseeing    4809 non-null   object \n",
      " 15  package_guided_tour    4809 non-null   object \n",
      " 16  package_insurance      4809 non-null   object \n",
      " 17  night_mainland         4809 non-null   float64\n",
      " 18  night_zanzibar         4809 non-null   float64\n",
      " 19  payment_mode           4809 non-null   object \n",
      " 20  first_trip_tz          4809 non-null   object \n",
      " 21  most_impressing        4496 non-null   object \n",
      " 22  total_cost             4809 non-null   float64\n",
      "dtypes: float64(5), object(18)\n",
      "memory usage: 864.2+ KB\n"
     ]
    }
   ],
   "source": [
    "# Check data info and show the data type of each column\n",
    "df.info()"
   ]
  },
  {
   "cell_type": "code",
   "execution_count": 258,
   "metadata": {},
   "outputs": [
    {
     "data": {
      "text/html": [
       "<div>\n",
       "<style scoped>\n",
       "    .dataframe tbody tr th:only-of-type {\n",
       "        vertical-align: middle;\n",
       "    }\n",
       "\n",
       "    .dataframe tbody tr th {\n",
       "        vertical-align: top;\n",
       "    }\n",
       "\n",
       "    .dataframe thead th {\n",
       "        text-align: right;\n",
       "    }\n",
       "</style>\n",
       "<table border=\"1\" class=\"dataframe\">\n",
       "  <thead>\n",
       "    <tr style=\"text-align: right;\">\n",
       "      <th></th>\n",
       "      <th>total_female</th>\n",
       "      <th>total_male</th>\n",
       "      <th>night_mainland</th>\n",
       "      <th>night_zanzibar</th>\n",
       "      <th>total_cost</th>\n",
       "    </tr>\n",
       "  </thead>\n",
       "  <tbody>\n",
       "    <tr>\n",
       "      <th>0</th>\n",
       "      <td>1.0</td>\n",
       "      <td>1.0</td>\n",
       "      <td>13.0</td>\n",
       "      <td>0.0</td>\n",
       "      <td>674602.5</td>\n",
       "    </tr>\n",
       "    <tr>\n",
       "      <th>1</th>\n",
       "      <td>1.0</td>\n",
       "      <td>0.0</td>\n",
       "      <td>14.0</td>\n",
       "      <td>7.0</td>\n",
       "      <td>3214906.5</td>\n",
       "    </tr>\n",
       "    <tr>\n",
       "      <th>2</th>\n",
       "      <td>0.0</td>\n",
       "      <td>1.0</td>\n",
       "      <td>1.0</td>\n",
       "      <td>31.0</td>\n",
       "      <td>3315000.0</td>\n",
       "    </tr>\n",
       "    <tr>\n",
       "      <th>3</th>\n",
       "      <td>1.0</td>\n",
       "      <td>1.0</td>\n",
       "      <td>11.0</td>\n",
       "      <td>0.0</td>\n",
       "      <td>7790250.0</td>\n",
       "    </tr>\n",
       "    <tr>\n",
       "      <th>4</th>\n",
       "      <td>1.0</td>\n",
       "      <td>0.0</td>\n",
       "      <td>7.0</td>\n",
       "      <td>4.0</td>\n",
       "      <td>1657500.0</td>\n",
       "    </tr>\n",
       "    <tr>\n",
       "      <th>...</th>\n",
       "      <td>...</td>\n",
       "      <td>...</td>\n",
       "      <td>...</td>\n",
       "      <td>...</td>\n",
       "      <td>...</td>\n",
       "    </tr>\n",
       "    <tr>\n",
       "      <th>4804</th>\n",
       "      <td>0.0</td>\n",
       "      <td>1.0</td>\n",
       "      <td>2.0</td>\n",
       "      <td>0.0</td>\n",
       "      <td>3315000.0</td>\n",
       "    </tr>\n",
       "    <tr>\n",
       "      <th>4805</th>\n",
       "      <td>1.0</td>\n",
       "      <td>1.0</td>\n",
       "      <td>11.0</td>\n",
       "      <td>0.0</td>\n",
       "      <td>10690875.0</td>\n",
       "    </tr>\n",
       "    <tr>\n",
       "      <th>4806</th>\n",
       "      <td>1.0</td>\n",
       "      <td>0.0</td>\n",
       "      <td>3.0</td>\n",
       "      <td>7.0</td>\n",
       "      <td>2246636.7</td>\n",
       "    </tr>\n",
       "    <tr>\n",
       "      <th>4807</th>\n",
       "      <td>1.0</td>\n",
       "      <td>1.0</td>\n",
       "      <td>5.0</td>\n",
       "      <td>0.0</td>\n",
       "      <td>1160250.0</td>\n",
       "    </tr>\n",
       "    <tr>\n",
       "      <th>4808</th>\n",
       "      <td>1.0</td>\n",
       "      <td>1.0</td>\n",
       "      <td>4.0</td>\n",
       "      <td>7.0</td>\n",
       "      <td>13260000.0</td>\n",
       "    </tr>\n",
       "  </tbody>\n",
       "</table>\n",
       "<p>4809 rows × 5 columns</p>\n",
       "</div>"
      ],
      "text/plain": [
       "      total_female  total_male  night_mainland  night_zanzibar  total_cost\n",
       "0              1.0         1.0            13.0             0.0    674602.5\n",
       "1              1.0         0.0            14.0             7.0   3214906.5\n",
       "2              0.0         1.0             1.0            31.0   3315000.0\n",
       "3              1.0         1.0            11.0             0.0   7790250.0\n",
       "4              1.0         0.0             7.0             4.0   1657500.0\n",
       "...            ...         ...             ...             ...         ...\n",
       "4804           0.0         1.0             2.0             0.0   3315000.0\n",
       "4805           1.0         1.0            11.0             0.0  10690875.0\n",
       "4806           1.0         0.0             3.0             7.0   2246636.7\n",
       "4807           1.0         1.0             5.0             0.0   1160250.0\n",
       "4808           1.0         1.0             4.0             7.0  13260000.0\n",
       "\n",
       "[4809 rows x 5 columns]"
      ]
     },
     "execution_count": 258,
     "metadata": {},
     "output_type": "execute_result"
    }
   ],
   "source": [
    "# select numeric columns\n",
    "df.select_dtypes('number')"
   ]
  },
  {
   "cell_type": "code",
   "execution_count": 259,
   "metadata": {},
   "outputs": [
    {
     "data": {
      "text/plain": [
       "False    4809\n",
       "dtype: int64"
      ]
     },
     "execution_count": 259,
     "metadata": {},
     "output_type": "execute_result"
    }
   ],
   "source": [
    "# check how many duplicated rows exist in the data frame\n",
    "df.duplicated().value_counts()"
   ]
  },
  {
   "cell_type": "markdown",
   "metadata": {},
   "source": [
    "In the following we will take care about this missing data. "
   ]
  },
  {
   "cell_type": "code",
   "execution_count": 260,
   "metadata": {},
   "outputs": [
    {
     "data": {
      "text/plain": [
       "ID                          0\n",
       "country                     0\n",
       "age_group                   0\n",
       "travel_with              1114\n",
       "total_female                3\n",
       "total_male                  5\n",
       "purpose                     0\n",
       "main_activity               0\n",
       "info_source                 0\n",
       "tour_arrangement            0\n",
       "package_transport_int       0\n",
       "package_accomodation        0\n",
       "package_food                0\n",
       "package_transport_tz        0\n",
       "package_sightseeing         0\n",
       "package_guided_tour         0\n",
       "package_insurance           0\n",
       "night_mainland              0\n",
       "night_zanzibar              0\n",
       "payment_mode                0\n",
       "first_trip_tz               0\n",
       "most_impressing           313\n",
       "total_cost                  0\n",
       "dtype: int64"
      ]
     },
     "execution_count": 260,
     "metadata": {},
     "output_type": "execute_result"
    }
   ],
   "source": [
    "# display number of missing values per column\n",
    "df.isna().sum()"
   ]
  },
  {
   "cell_type": "code",
   "execution_count": 261,
   "metadata": {},
   "outputs": [
    {
     "name": "stdout",
     "output_type": "stream",
     "text": [
      "numbers of rows : 4809\n",
      "missing values in travel with : 23.16 %\n",
      "missing values in total_female : 0.06 %\n",
      "missing values in total_male : 0.1 %\n",
      "missing values in most_impressing : 0.28 %\n"
     ]
    }
   ],
   "source": [
    "print(f\"numbers of rows : {df.shape[0]}\")\n",
    "print(f\"missing values in travel with : {round(df.travel_with.isna().sum()/df.shape[0]*100,2)} %\")\n",
    "print(f\"missing values in total_female : {round(df.total_female.isna().sum()/df.shape[0]*100,2)} %\")\n",
    "print(f\"missing values in total_male : {round(df.total_male.isna().sum()/df.shape[0]*100,2)} %\")\n",
    "print(f\"missing values in most_impressing : {round(df.most_impressing.isna().sum().sum()/(df.shape[0]*df.shape[1])*100,2)} %\")"
   ]
  },
  {
   "cell_type": "code",
   "execution_count": 262,
   "metadata": {},
   "outputs": [],
   "source": [
    "'''get 12 countries that spent more in Tanzania Tourisim.\n",
    "'''\n",
    "df_new = df[df.country.isin([\"CHINA\",\"DENMARK\",\"SWIZERLAND\",\"UNITED STATES OF AMERICA\", \"UNITED KINGDOM\",\"ITALY\",\"FRANCE\",\"AUSTRALIA\",\"SOUTH AFRICA\",\"GERMANY\",\"SPAIN\",\"CANADA\",\"NETHERLANDS\"])]"
   ]
  },
  {
   "cell_type": "code",
   "execution_count": 263,
   "metadata": {},
   "outputs": [
    {
     "data": {
      "text/plain": [
       "(3106, 23)"
      ]
     },
     "execution_count": 263,
     "metadata": {},
     "output_type": "execute_result"
    }
   ],
   "source": [
    "df_new.shape"
   ]
  },
  {
   "cell_type": "code",
   "execution_count": 264,
   "metadata": {},
   "outputs": [
    {
     "data": {
      "text/plain": [
       "ID                         0\n",
       "country                    0\n",
       "age_group                  0\n",
       "travel_with              608\n",
       "total_female               3\n",
       "total_male                 5\n",
       "purpose                    0\n",
       "main_activity              0\n",
       "info_source                0\n",
       "tour_arrangement           0\n",
       "package_transport_int      0\n",
       "package_accomodation       0\n",
       "package_food               0\n",
       "package_transport_tz       0\n",
       "package_sightseeing        0\n",
       "package_guided_tour        0\n",
       "package_insurance          0\n",
       "night_mainland             0\n",
       "night_zanzibar             0\n",
       "payment_mode               0\n",
       "first_trip_tz              0\n",
       "most_impressing          124\n",
       "total_cost                 0\n",
       "dtype: int64"
      ]
     },
     "execution_count": 264,
     "metadata": {},
     "output_type": "execute_result"
    }
   ],
   "source": [
    "'''by removing the rest of the counries that do not have much influances on total cost we also got rid of some of the data that were already missing.\n",
    "'''\n",
    "\n",
    "df_new.isna().sum()"
   ]
  },
  {
   "cell_type": "code",
   "execution_count": 265,
   "metadata": {},
   "outputs": [
    {
     "data": {
      "text/plain": [
       "ID                       0\n",
       "country                  0\n",
       "age_group                0\n",
       "travel_with              0\n",
       "total_female             0\n",
       "total_male               0\n",
       "purpose                  0\n",
       "main_activity            0\n",
       "info_source              0\n",
       "tour_arrangement         0\n",
       "package_transport_int    0\n",
       "package_accomodation     0\n",
       "package_food             0\n",
       "package_transport_tz     0\n",
       "package_sightseeing      0\n",
       "package_guided_tour      0\n",
       "package_insurance        0\n",
       "night_mainland           0\n",
       "night_zanzibar           0\n",
       "payment_mode             0\n",
       "first_trip_tz            0\n",
       "most_impressing          0\n",
       "total_cost               0\n",
       "dtype: int64"
      ]
     },
     "execution_count": 265,
     "metadata": {},
     "output_type": "execute_result"
    }
   ],
   "source": [
    "'''now we removed the rest of the missing data\n",
    "'''\n",
    "df_new.dropna(inplace=True)\n",
    "df_new.isna().sum()"
   ]
  },
  {
   "cell_type": "code",
   "execution_count": 266,
   "metadata": {},
   "outputs": [
    {
     "data": {
      "text/plain": [
       "(2399, 23)"
      ]
     },
     "execution_count": 266,
     "metadata": {},
     "output_type": "execute_result"
    }
   ],
   "source": [
    "'''new data\n",
    "'''\n",
    "df_new.shape"
   ]
  },
  {
   "cell_type": "markdown",
   "metadata": {},
   "source": [
    "## Dealing with categorical variables\n",
    "\n",
    "In the following we want to find out if the variables could be categorical or numeric. We will take a closer look at the columns `age-group`,`travel_with`, `purpose`, `info_source`, `tour_arrangement` and `main_activity`. "
   ]
  },
  {
   "cell_type": "code",
   "execution_count": 267,
   "metadata": {},
   "outputs": [
    {
     "name": "stdout",
     "output_type": "stream",
     "text": [
      "count      2399\n",
      "unique        4\n",
      "top       25-44\n",
      "freq       1060\n",
      "Name: age_group, dtype: object\n",
      "Unique values in column age_group:  ['45-64' '25-44' '1-24' '65+']\n"
     ]
    }
   ],
   "source": [
    "# Descriptive statistics for column age_group\n",
    "print(df_new.age_group.describe())\n",
    "print(\"Unique values in column age_group: \", df_new.age_group.unique())"
   ]
  },
  {
   "cell_type": "code",
   "execution_count": 268,
   "metadata": {},
   "outputs": [
    {
     "name": "stdout",
     "output_type": "stream",
     "text": [
      "count       2399\n",
      "unique         5\n",
      "top       Spouse\n",
      "freq         817\n",
      "Name: travel_with, dtype: object\n",
      "Unique values in column travel_with:  ['Friends/Relatives' 'Alone' 'Spouse' 'Children' 'Spouse and Children']\n"
     ]
    }
   ],
   "source": [
    "# Descriptive statistics for column travel_with\n",
    "print(df_new.travel_with.describe())\n",
    "print(\"Unique values in column travel_with: \", df_new.travel_with.unique())"
   ]
  },
  {
   "cell_type": "code",
   "execution_count": 269,
   "metadata": {},
   "outputs": [
    {
     "name": "stdout",
     "output_type": "stream",
     "text": [
      "count                     2399\n",
      "unique                       7\n",
      "top       Leisure and Holidays\n",
      "freq                      1971\n",
      "Name: purpose, dtype: object\n",
      "Unique values in column purpose:  ['Leisure and Holidays' 'Visiting Friends and Relatives' 'Business'\n",
      " 'Scientific and Academic' 'Volunteering' 'Meetings and Conference'\n",
      " 'Other']\n"
     ]
    }
   ],
   "source": [
    "# Descriptive statistics for column purpose\n",
    "print(df_new.purpose.describe())\n",
    "print(\"Unique values in column purpose: \", df_new.purpose.unique())"
   ]
  },
  {
   "cell_type": "code",
   "execution_count": 270,
   "metadata": {},
   "outputs": [
    {
     "name": "stdout",
     "output_type": "stream",
     "text": [
      "count                 2399\n",
      "unique                   9\n",
      "top       Wildlife tourism\n",
      "freq                  1286\n",
      "Name: main_activity, dtype: object\n",
      "Unique values in column main_activity:  ['Wildlife tourism' 'Cultural tourism' 'Mountain climbing' 'Beach tourism'\n",
      " 'Hunting tourism' 'business' 'Conference tourism' 'Bird watching'\n",
      " 'Diving and Sport Fishing']\n"
     ]
    }
   ],
   "source": [
    "# Descriptive statistics for column main_activity\n",
    "print(df_new.main_activity.describe())\n",
    "print(\"Unique values in column main_activity: \", df_new.main_activity.unique())"
   ]
  },
  {
   "cell_type": "code",
   "execution_count": 271,
   "metadata": {},
   "outputs": [
    {
     "name": "stdout",
     "output_type": "stream",
     "text": [
      "count                             2399\n",
      "unique                               8\n",
      "top       Travel, agent, tour operator\n",
      "freq                              1327\n",
      "Name: info_source, dtype: object\n",
      "Unique values in column info_source:  ['Friends, relatives' 'Travel, agent, tour operator' 'Radio, TV, Web'\n",
      " 'Newspaper, magazines,brochures' 'others' 'Tanzania Mission Abroad'\n",
      " 'Trade fair' 'inflight magazines']\n"
     ]
    }
   ],
   "source": [
    "# Descriptive statistics for column info_source\n",
    "print(df_new.info_source.describe())\n",
    "print(\"Unique values in column info_source: \", df_new.info_source.unique())"
   ]
  },
  {
   "cell_type": "code",
   "execution_count": 272,
   "metadata": {},
   "outputs": [
    {
     "name": "stdout",
     "output_type": "stream",
     "text": [
      "count             2399\n",
      "unique               2\n",
      "top       Package Tour\n",
      "freq              1596\n",
      "Name: tour_arrangement, dtype: object\n",
      "Unique values in column tour_arrangement:  ['Independent' 'Package Tour']\n"
     ]
    }
   ],
   "source": [
    "# Descriptive statistics for column tour_arrangement\n",
    "print(df_new.tour_arrangement.describe())\n",
    "print(\"Unique values in column tour_arrangement: \", df_new.tour_arrangement.unique())"
   ]
  },
  {
   "cell_type": "markdown",
   "metadata": {},
   "source": [
    "It turns out that this columns are **categorical** variables, i.e. they represent categories, not numerical features. "
   ]
  },
  {
   "cell_type": "markdown",
   "metadata": {},
   "source": [
    "We can see that `total_female`, `total_male`, `payment_mode` and `ID` variables isn't providing any information for our model, so we can drop them too."
   ]
  },
  {
   "cell_type": "code",
   "execution_count": 273,
   "metadata": {},
   "outputs": [],
   "source": [
    "df_new= df_new.drop(['total_female','total_male','payment_mode','ID'], axis=1)"
   ]
  },
  {
   "cell_type": "markdown",
   "metadata": {},
   "source": [
    "## Transforming categorical variables\n",
    "\n",
    "We want to use categorical variables in our regression model. Thus, they need to be transformed. To do so in the following we create dummy variables."
   ]
  },
  {
   "cell_type": "markdown",
   "metadata": {},
   "source": [
    "### Creating Dummy Variables"
   ]
  },
  {
   "cell_type": "code",
   "execution_count": 274,
   "metadata": {},
   "outputs": [],
   "source": [
    "# Create dummy variables using pandas .get_dummies()\n",
    "age_with_dummy = pd.get_dummies(df_new['age_group'], drop_first=True)\n",
    "data_all = pd.concat([df_new,age_with_dummy],axis=1)"
   ]
  },
  {
   "cell_type": "code",
   "execution_count": 275,
   "metadata": {},
   "outputs": [],
   "source": [
    "travel_with_dummy = pd.get_dummies(df_new['travel_with'], drop_first=True)\n",
    "data_all1 = pd.concat([data_all,travel_with_dummy],axis=1)"
   ]
  },
  {
   "cell_type": "code",
   "execution_count": 276,
   "metadata": {},
   "outputs": [],
   "source": [
    "purpose_with_dummy = pd.get_dummies(df_new['purpose'], drop_first=True)\n",
    "data_all2 = pd.concat([data_all1,purpose_with_dummy],axis=1)"
   ]
  },
  {
   "cell_type": "code",
   "execution_count": 277,
   "metadata": {},
   "outputs": [],
   "source": [
    "mainactivity_with_dummy = pd.get_dummies(df_new['main_activity'], drop_first=True)\n",
    "data_all3 = pd.concat([data_all2,mainactivity_with_dummy],axis=1)"
   ]
  },
  {
   "cell_type": "code",
   "execution_count": 278,
   "metadata": {},
   "outputs": [],
   "source": [
    "#info_with_dummy = pd.get_dummies(df_new['info_source'], drop_first=True)\n",
    "#data_all4 = pd.concat([data_all3,info_with_dummy],axis=1)"
   ]
  },
  {
   "cell_type": "code",
   "execution_count": 279,
   "metadata": {},
   "outputs": [],
   "source": [
    "#tourarr_with_dummy = pd.get_dummies(df_new['tour_arrangement'], drop_first=True)\n",
    "#data_all5 = pd.concat([data_all4,tourarr_with_dummy],axis=1)"
   ]
  },
  {
   "cell_type": "code",
   "execution_count": 280,
   "metadata": {},
   "outputs": [],
   "source": [
    "tourarr_with_dummy = pd.get_dummies(df_new['tour_arrangement'], drop_first=True)\n",
    "data_all5 = pd.concat([data_all3,tourarr_with_dummy],axis=1)"
   ]
  },
  {
   "cell_type": "code",
   "execution_count": 281,
   "metadata": {},
   "outputs": [],
   "source": [
    "# Drop original columns\n",
    "data_all6= data_all5.drop(['age_group','travel_with','purpose','main_activity','info_source','tour_arrangement'], axis=1)"
   ]
  },
  {
   "cell_type": "code",
   "execution_count": 282,
   "metadata": {},
   "outputs": [],
   "source": [
    "# Replace YES and NO in the dataset with 1 and 0\n",
    "data_all7 = data_all6.replace({'Yes':1, 'No': 0})"
   ]
  },
  {
   "cell_type": "code",
   "execution_count": 283,
   "metadata": {},
   "outputs": [
    {
     "data": {
      "text/html": [
       "<div>\n",
       "<style scoped>\n",
       "    .dataframe tbody tr th:only-of-type {\n",
       "        vertical-align: middle;\n",
       "    }\n",
       "\n",
       "    .dataframe tbody tr th {\n",
       "        vertical-align: top;\n",
       "    }\n",
       "\n",
       "    .dataframe thead th {\n",
       "        text-align: right;\n",
       "    }\n",
       "</style>\n",
       "<table border=\"1\" class=\"dataframe\">\n",
       "  <thead>\n",
       "    <tr style=\"text-align: right;\">\n",
       "      <th></th>\n",
       "      <th>country</th>\n",
       "      <th>package_transport_int</th>\n",
       "      <th>package_accomodation</th>\n",
       "      <th>package_food</th>\n",
       "      <th>package_transport_tz</th>\n",
       "      <th>package_sightseeing</th>\n",
       "      <th>package_guided_tour</th>\n",
       "      <th>package_insurance</th>\n",
       "      <th>night_mainland</th>\n",
       "      <th>night_zanzibar</th>\n",
       "      <th>...</th>\n",
       "      <th>Volunteering</th>\n",
       "      <th>Bird watching</th>\n",
       "      <th>Conference tourism</th>\n",
       "      <th>Cultural tourism</th>\n",
       "      <th>Diving and Sport Fishing</th>\n",
       "      <th>Hunting tourism</th>\n",
       "      <th>Mountain climbing</th>\n",
       "      <th>Wildlife tourism</th>\n",
       "      <th>business</th>\n",
       "      <th>Package Tour</th>\n",
       "    </tr>\n",
       "  </thead>\n",
       "  <tbody>\n",
       "    <tr>\n",
       "      <th>0</th>\n",
       "      <td>SWIZERLAND</td>\n",
       "      <td>0</td>\n",
       "      <td>0</td>\n",
       "      <td>0</td>\n",
       "      <td>0</td>\n",
       "      <td>0</td>\n",
       "      <td>0</td>\n",
       "      <td>0</td>\n",
       "      <td>13.0</td>\n",
       "      <td>0.0</td>\n",
       "      <td>...</td>\n",
       "      <td>0</td>\n",
       "      <td>0</td>\n",
       "      <td>0</td>\n",
       "      <td>0</td>\n",
       "      <td>0</td>\n",
       "      <td>0</td>\n",
       "      <td>0</td>\n",
       "      <td>1</td>\n",
       "      <td>0</td>\n",
       "      <td>0</td>\n",
       "    </tr>\n",
       "    <tr>\n",
       "      <th>2</th>\n",
       "      <td>UNITED KINGDOM</td>\n",
       "      <td>0</td>\n",
       "      <td>0</td>\n",
       "      <td>0</td>\n",
       "      <td>0</td>\n",
       "      <td>0</td>\n",
       "      <td>0</td>\n",
       "      <td>0</td>\n",
       "      <td>1.0</td>\n",
       "      <td>31.0</td>\n",
       "      <td>...</td>\n",
       "      <td>0</td>\n",
       "      <td>0</td>\n",
       "      <td>0</td>\n",
       "      <td>1</td>\n",
       "      <td>0</td>\n",
       "      <td>0</td>\n",
       "      <td>0</td>\n",
       "      <td>0</td>\n",
       "      <td>0</td>\n",
       "      <td>0</td>\n",
       "    </tr>\n",
       "    <tr>\n",
       "      <th>3</th>\n",
       "      <td>UNITED KINGDOM</td>\n",
       "      <td>0</td>\n",
       "      <td>1</td>\n",
       "      <td>1</td>\n",
       "      <td>1</td>\n",
       "      <td>1</td>\n",
       "      <td>1</td>\n",
       "      <td>0</td>\n",
       "      <td>11.0</td>\n",
       "      <td>0.0</td>\n",
       "      <td>...</td>\n",
       "      <td>0</td>\n",
       "      <td>0</td>\n",
       "      <td>0</td>\n",
       "      <td>0</td>\n",
       "      <td>0</td>\n",
       "      <td>0</td>\n",
       "      <td>0</td>\n",
       "      <td>1</td>\n",
       "      <td>0</td>\n",
       "      <td>1</td>\n",
       "    </tr>\n",
       "    <tr>\n",
       "      <th>6</th>\n",
       "      <td>SOUTH AFRICA</td>\n",
       "      <td>0</td>\n",
       "      <td>0</td>\n",
       "      <td>0</td>\n",
       "      <td>0</td>\n",
       "      <td>0</td>\n",
       "      <td>0</td>\n",
       "      <td>0</td>\n",
       "      <td>9.0</td>\n",
       "      <td>0.0</td>\n",
       "      <td>...</td>\n",
       "      <td>0</td>\n",
       "      <td>0</td>\n",
       "      <td>0</td>\n",
       "      <td>0</td>\n",
       "      <td>0</td>\n",
       "      <td>0</td>\n",
       "      <td>1</td>\n",
       "      <td>0</td>\n",
       "      <td>0</td>\n",
       "      <td>0</td>\n",
       "    </tr>\n",
       "    <tr>\n",
       "      <th>7</th>\n",
       "      <td>UNITED STATES OF AMERICA</td>\n",
       "      <td>1</td>\n",
       "      <td>1</td>\n",
       "      <td>1</td>\n",
       "      <td>1</td>\n",
       "      <td>1</td>\n",
       "      <td>1</td>\n",
       "      <td>1</td>\n",
       "      <td>10.0</td>\n",
       "      <td>3.0</td>\n",
       "      <td>...</td>\n",
       "      <td>0</td>\n",
       "      <td>0</td>\n",
       "      <td>0</td>\n",
       "      <td>0</td>\n",
       "      <td>0</td>\n",
       "      <td>0</td>\n",
       "      <td>0</td>\n",
       "      <td>1</td>\n",
       "      <td>0</td>\n",
       "      <td>1</td>\n",
       "    </tr>\n",
       "  </tbody>\n",
       "</table>\n",
       "<p>5 rows × 35 columns</p>\n",
       "</div>"
      ],
      "text/plain": [
       "                    country  package_transport_int  package_accomodation  \\\n",
       "0                SWIZERLAND                      0                     0   \n",
       "2            UNITED KINGDOM                      0                     0   \n",
       "3            UNITED KINGDOM                      0                     1   \n",
       "6              SOUTH AFRICA                      0                     0   \n",
       "7  UNITED STATES OF AMERICA                      1                     1   \n",
       "\n",
       "   package_food  package_transport_tz  package_sightseeing  \\\n",
       "0             0                     0                    0   \n",
       "2             0                     0                    0   \n",
       "3             1                     1                    1   \n",
       "6             0                     0                    0   \n",
       "7             1                     1                    1   \n",
       "\n",
       "   package_guided_tour  package_insurance  night_mainland  night_zanzibar  \\\n",
       "0                    0                  0            13.0             0.0   \n",
       "2                    0                  0             1.0            31.0   \n",
       "3                    1                  0            11.0             0.0   \n",
       "6                    0                  0             9.0             0.0   \n",
       "7                    1                  1            10.0             3.0   \n",
       "\n",
       "   ...  Volunteering Bird watching  Conference tourism  Cultural tourism  \\\n",
       "0  ...             0             0                   0                 0   \n",
       "2  ...             0             0                   0                 1   \n",
       "3  ...             0             0                   0                 0   \n",
       "6  ...             0             0                   0                 0   \n",
       "7  ...             0             0                   0                 0   \n",
       "\n",
       "   Diving and Sport Fishing  Hunting tourism  Mountain climbing  \\\n",
       "0                         0                0                  0   \n",
       "2                         0                0                  0   \n",
       "3                         0                0                  0   \n",
       "6                         0                0                  1   \n",
       "7                         0                0                  0   \n",
       "\n",
       "   Wildlife tourism  business  Package Tour  \n",
       "0                 1         0             0  \n",
       "2                 0         0             0  \n",
       "3                 1         0             1  \n",
       "6                 0         0             0  \n",
       "7                 1         0             1  \n",
       "\n",
       "[5 rows x 35 columns]"
      ]
     },
     "execution_count": 283,
     "metadata": {},
     "output_type": "execute_result"
    }
   ],
   "source": [
    "data_all7.head()"
   ]
  },
  {
   "cell_type": "code",
   "execution_count": 284,
   "metadata": {},
   "outputs": [
    {
     "name": "stdout",
     "output_type": "stream",
     "text": [
      "[ 0  1  8  4 11  9  3 10  5  2 12  6  7]\n",
      "4     510\n",
      "1     387\n",
      "5     351\n",
      "6     237\n",
      "9     183\n",
      "8     156\n",
      "7     151\n",
      "10    125\n",
      "11     87\n",
      "12     86\n",
      "0      51\n",
      "2      49\n",
      "3      26\n",
      "Name: country, dtype: int64\n"
     ]
    }
   ],
   "source": [
    "data_all7.country = data_all7.country.astype('category')\n",
    "data_all7.country = data_all7.country.cat.reorder_categories(['SWIZERLAND', 'UNITED KINGDOM', 'CHINA', 'DENMARK', 'UNITED STATES OF AMERICA', 'ITALY', 'FRANCE', 'AUSTRALIA', 'SOUTH AFRICA', 'GERMANY', 'SPAIN', 'CANADA', 'NETHERLANDS'], ordered=True)\n",
    "data_all7.country = data_all7.country.cat.codes\n",
    "\n",
    "print(data_all7.country.unique())\n",
    "print(data_all7.country.value_counts())\n"
   ]
  },
  {
   "cell_type": "code",
   "execution_count": 285,
   "metadata": {},
   "outputs": [
    {
     "data": {
      "text/html": [
       "<div>\n",
       "<style scoped>\n",
       "    .dataframe tbody tr th:only-of-type {\n",
       "        vertical-align: middle;\n",
       "    }\n",
       "\n",
       "    .dataframe tbody tr th {\n",
       "        vertical-align: top;\n",
       "    }\n",
       "\n",
       "    .dataframe thead th {\n",
       "        text-align: right;\n",
       "    }\n",
       "</style>\n",
       "<table border=\"1\" class=\"dataframe\">\n",
       "  <thead>\n",
       "    <tr style=\"text-align: right;\">\n",
       "      <th></th>\n",
       "      <th>country</th>\n",
       "      <th>package_transport_int</th>\n",
       "      <th>package_accomodation</th>\n",
       "      <th>package_food</th>\n",
       "      <th>package_transport_tz</th>\n",
       "      <th>package_sightseeing</th>\n",
       "      <th>package_guided_tour</th>\n",
       "      <th>package_insurance</th>\n",
       "      <th>night_mainland</th>\n",
       "      <th>night_zanzibar</th>\n",
       "      <th>...</th>\n",
       "      <th>Volunteering</th>\n",
       "      <th>Bird watching</th>\n",
       "      <th>Conference tourism</th>\n",
       "      <th>Cultural tourism</th>\n",
       "      <th>Diving and Sport Fishing</th>\n",
       "      <th>Hunting tourism</th>\n",
       "      <th>Mountain climbing</th>\n",
       "      <th>Wildlife tourism</th>\n",
       "      <th>business</th>\n",
       "      <th>Package Tour</th>\n",
       "    </tr>\n",
       "  </thead>\n",
       "  <tbody>\n",
       "    <tr>\n",
       "      <th>0</th>\n",
       "      <td>0</td>\n",
       "      <td>0</td>\n",
       "      <td>0</td>\n",
       "      <td>0</td>\n",
       "      <td>0</td>\n",
       "      <td>0</td>\n",
       "      <td>0</td>\n",
       "      <td>0</td>\n",
       "      <td>13.0</td>\n",
       "      <td>0.0</td>\n",
       "      <td>...</td>\n",
       "      <td>0</td>\n",
       "      <td>0</td>\n",
       "      <td>0</td>\n",
       "      <td>0</td>\n",
       "      <td>0</td>\n",
       "      <td>0</td>\n",
       "      <td>0</td>\n",
       "      <td>1</td>\n",
       "      <td>0</td>\n",
       "      <td>0</td>\n",
       "    </tr>\n",
       "    <tr>\n",
       "      <th>2</th>\n",
       "      <td>1</td>\n",
       "      <td>0</td>\n",
       "      <td>0</td>\n",
       "      <td>0</td>\n",
       "      <td>0</td>\n",
       "      <td>0</td>\n",
       "      <td>0</td>\n",
       "      <td>0</td>\n",
       "      <td>1.0</td>\n",
       "      <td>31.0</td>\n",
       "      <td>...</td>\n",
       "      <td>0</td>\n",
       "      <td>0</td>\n",
       "      <td>0</td>\n",
       "      <td>1</td>\n",
       "      <td>0</td>\n",
       "      <td>0</td>\n",
       "      <td>0</td>\n",
       "      <td>0</td>\n",
       "      <td>0</td>\n",
       "      <td>0</td>\n",
       "    </tr>\n",
       "    <tr>\n",
       "      <th>3</th>\n",
       "      <td>1</td>\n",
       "      <td>0</td>\n",
       "      <td>1</td>\n",
       "      <td>1</td>\n",
       "      <td>1</td>\n",
       "      <td>1</td>\n",
       "      <td>1</td>\n",
       "      <td>0</td>\n",
       "      <td>11.0</td>\n",
       "      <td>0.0</td>\n",
       "      <td>...</td>\n",
       "      <td>0</td>\n",
       "      <td>0</td>\n",
       "      <td>0</td>\n",
       "      <td>0</td>\n",
       "      <td>0</td>\n",
       "      <td>0</td>\n",
       "      <td>0</td>\n",
       "      <td>1</td>\n",
       "      <td>0</td>\n",
       "      <td>1</td>\n",
       "    </tr>\n",
       "    <tr>\n",
       "      <th>6</th>\n",
       "      <td>8</td>\n",
       "      <td>0</td>\n",
       "      <td>0</td>\n",
       "      <td>0</td>\n",
       "      <td>0</td>\n",
       "      <td>0</td>\n",
       "      <td>0</td>\n",
       "      <td>0</td>\n",
       "      <td>9.0</td>\n",
       "      <td>0.0</td>\n",
       "      <td>...</td>\n",
       "      <td>0</td>\n",
       "      <td>0</td>\n",
       "      <td>0</td>\n",
       "      <td>0</td>\n",
       "      <td>0</td>\n",
       "      <td>0</td>\n",
       "      <td>1</td>\n",
       "      <td>0</td>\n",
       "      <td>0</td>\n",
       "      <td>0</td>\n",
       "    </tr>\n",
       "    <tr>\n",
       "      <th>7</th>\n",
       "      <td>4</td>\n",
       "      <td>1</td>\n",
       "      <td>1</td>\n",
       "      <td>1</td>\n",
       "      <td>1</td>\n",
       "      <td>1</td>\n",
       "      <td>1</td>\n",
       "      <td>1</td>\n",
       "      <td>10.0</td>\n",
       "      <td>3.0</td>\n",
       "      <td>...</td>\n",
       "      <td>0</td>\n",
       "      <td>0</td>\n",
       "      <td>0</td>\n",
       "      <td>0</td>\n",
       "      <td>0</td>\n",
       "      <td>0</td>\n",
       "      <td>0</td>\n",
       "      <td>1</td>\n",
       "      <td>0</td>\n",
       "      <td>1</td>\n",
       "    </tr>\n",
       "  </tbody>\n",
       "</table>\n",
       "<p>5 rows × 35 columns</p>\n",
       "</div>"
      ],
      "text/plain": [
       "   country  package_transport_int  package_accomodation  package_food  \\\n",
       "0        0                      0                     0             0   \n",
       "2        1                      0                     0             0   \n",
       "3        1                      0                     1             1   \n",
       "6        8                      0                     0             0   \n",
       "7        4                      1                     1             1   \n",
       "\n",
       "   package_transport_tz  package_sightseeing  package_guided_tour  \\\n",
       "0                     0                    0                    0   \n",
       "2                     0                    0                    0   \n",
       "3                     1                    1                    1   \n",
       "6                     0                    0                    0   \n",
       "7                     1                    1                    1   \n",
       "\n",
       "   package_insurance  night_mainland  night_zanzibar  ...  Volunteering  \\\n",
       "0                  0            13.0             0.0  ...             0   \n",
       "2                  0             1.0            31.0  ...             0   \n",
       "3                  0            11.0             0.0  ...             0   \n",
       "6                  0             9.0             0.0  ...             0   \n",
       "7                  1            10.0             3.0  ...             0   \n",
       "\n",
       "  Bird watching  Conference tourism  Cultural tourism  \\\n",
       "0             0                   0                 0   \n",
       "2             0                   0                 1   \n",
       "3             0                   0                 0   \n",
       "6             0                   0                 0   \n",
       "7             0                   0                 0   \n",
       "\n",
       "   Diving and Sport Fishing  Hunting tourism  Mountain climbing  \\\n",
       "0                         0                0                  0   \n",
       "2                         0                0                  0   \n",
       "3                         0                0                  0   \n",
       "6                         0                0                  1   \n",
       "7                         0                0                  0   \n",
       "\n",
       "   Wildlife tourism  business  Package Tour  \n",
       "0                 1         0             0  \n",
       "2                 0         0             0  \n",
       "3                 1         0             1  \n",
       "6                 0         0             0  \n",
       "7                 1         0             1  \n",
       "\n",
       "[5 rows x 35 columns]"
      ]
     },
     "execution_count": 285,
     "metadata": {},
     "output_type": "execute_result"
    }
   ],
   "source": [
    "data_all7.head()"
   ]
  },
  {
   "cell_type": "code",
   "execution_count": 286,
   "metadata": {},
   "outputs": [],
   "source": [
    "#data_all8 = data_all7.replace({'SWIZERLAND':1, 'UNITED KINGDOM': 2 ,'CHINA':3,'DENMARK':4,'UNITED STATES OF AMERICA':5,'ITALY':6,'FRANCE':7,'AUSTRALIA':8,'SOUTH AFRICA':9,'GERMANY':10,'SPAIN':11,'CANADA':12,'NETHERLANDS':13})"
   ]
  },
  {
   "cell_type": "code",
   "execution_count": 287,
   "metadata": {},
   "outputs": [],
   "source": [
    "#data_all8.head(20)"
   ]
  },
  {
   "cell_type": "markdown",
   "metadata": {},
   "source": [
    "## Removing outliers"
   ]
  },
  {
   "cell_type": "code",
   "execution_count": 288,
   "metadata": {},
   "outputs": [],
   "source": [
    "###removing outliers Inter-quartile Range (IQR)\n",
    "###IQR = Q3-Q1\n",
    "###Lower Boundary = Q1-1.5*IQR\n",
    "###Upper Boundary = Q3+1.5*IQR\n",
    "\n",
    "def outliers(df,ft):\n",
    "    Q1 = df[ft].quantile(0.25)\n",
    "    Q3 = df[ft].quantile(0.75)\n",
    "    IQR = Q3 - Q1\n",
    "\n",
    "    lower_bound = Q1 - 1.5*IQR\n",
    "    upper_bound = Q3 + 1.5*IQR\n",
    "\n",
    "    ls = df.index[(df[ft] < lower_bound)| (df[ft] > upper_bound)]\n",
    "    return ls"
   ]
  },
  {
   "cell_type": "code",
   "execution_count": 289,
   "metadata": {},
   "outputs": [],
   "source": [
    "#create an empty list to store the output indices from multiple columns\n",
    "index_list = []\n",
    "for feature in ['night_mainland','night_zanzibar','total_cost']:\n",
    "    index_list.extend(outliers(data_all7,feature))"
   ]
  },
  {
   "cell_type": "code",
   "execution_count": 290,
   "metadata": {},
   "outputs": [],
   "source": [
    "def remove(df,ls):\n",
    "    ls = sorted(set(ls))\n",
    "    df = df.drop(ls)\n",
    "    return df"
   ]
  },
  {
   "cell_type": "code",
   "execution_count": 291,
   "metadata": {},
   "outputs": [],
   "source": [
    "df_cleaned =remove(data_all7,index_list)"
   ]
  },
  {
   "cell_type": "code",
   "execution_count": 292,
   "metadata": {},
   "outputs": [
    {
     "data": {
      "text/plain": [
       "(2138, 35)"
      ]
     },
     "execution_count": 292,
     "metadata": {},
     "output_type": "execute_result"
    }
   ],
   "source": [
    "df_cleaned.shape"
   ]
  },
  {
   "cell_type": "code",
   "execution_count": 293,
   "metadata": {},
   "outputs": [],
   "source": [
    "df_cleaned.to_csv('new_cleaned.csv',index=False)"
   ]
  },
  {
   "cell_type": "code",
   "execution_count": 294,
   "metadata": {},
   "outputs": [],
   "source": [
    "new_cleaned2 =pd.read_csv('new_cleaned.csv')\n"
   ]
  },
  {
   "cell_type": "code",
   "execution_count": 295,
   "metadata": {},
   "outputs": [
    {
     "name": "stdout",
     "output_type": "stream",
     "text": [
      "<class 'pandas.core.frame.DataFrame'>\n",
      "RangeIndex: 2138 entries, 0 to 2137\n",
      "Data columns (total 35 columns):\n",
      " #   Column                          Non-Null Count  Dtype  \n",
      "---  ------                          --------------  -----  \n",
      " 0   country                         2138 non-null   int64  \n",
      " 1   package_transport_int           2138 non-null   int64  \n",
      " 2   package_accomodation            2138 non-null   int64  \n",
      " 3   package_food                    2138 non-null   int64  \n",
      " 4   package_transport_tz            2138 non-null   int64  \n",
      " 5   package_sightseeing             2138 non-null   int64  \n",
      " 6   package_guided_tour             2138 non-null   int64  \n",
      " 7   package_insurance               2138 non-null   int64  \n",
      " 8   night_mainland                  2138 non-null   float64\n",
      " 9   night_zanzibar                  2138 non-null   float64\n",
      " 10  first_trip_tz                   2138 non-null   int64  \n",
      " 11  most_impressing                 2138 non-null   object \n",
      " 12  total_cost                      2138 non-null   float64\n",
      " 13  25-44                           2138 non-null   int64  \n",
      " 14  45-64                           2138 non-null   int64  \n",
      " 15  65+                             2138 non-null   int64  \n",
      " 16  Children                        2138 non-null   int64  \n",
      " 17  Friends/Relatives               2138 non-null   int64  \n",
      " 18  Spouse                          2138 non-null   int64  \n",
      " 19  Spouse and Children             2138 non-null   int64  \n",
      " 20  Leisure and Holidays            2138 non-null   int64  \n",
      " 21  Meetings and Conference         2138 non-null   int64  \n",
      " 22  Other                           2138 non-null   int64  \n",
      " 23  Scientific and Academic         2138 non-null   int64  \n",
      " 24  Visiting Friends and Relatives  2138 non-null   int64  \n",
      " 25  Volunteering                    2138 non-null   int64  \n",
      " 26  Bird watching                   2138 non-null   int64  \n",
      " 27  Conference tourism              2138 non-null   int64  \n",
      " 28  Cultural tourism                2138 non-null   int64  \n",
      " 29  Diving and Sport Fishing        2138 non-null   int64  \n",
      " 30  Hunting tourism                 2138 non-null   int64  \n",
      " 31  Mountain climbing               2138 non-null   int64  \n",
      " 32  Wildlife tourism                2138 non-null   int64  \n",
      " 33  business                        2138 non-null   int64  \n",
      " 34  Package Tour                    2138 non-null   int64  \n",
      "dtypes: float64(3), int64(31), object(1)\n",
      "memory usage: 584.7+ KB\n"
     ]
    }
   ],
   "source": [
    "new_cleaned2.info()"
   ]
  }
 ],
 "metadata": {
  "kernelspec": {
   "display_name": "Python 3.9.8 ('.venv': venv)",
   "language": "python",
   "name": "python3"
  },
  "language_info": {
   "codemirror_mode": {
    "name": "ipython",
    "version": 3
   },
   "file_extension": ".py",
   "mimetype": "text/x-python",
   "name": "python",
   "nbconvert_exporter": "python",
   "pygments_lexer": "ipython3",
   "version": "3.9.8"
  },
  "orig_nbformat": 4,
  "vscode": {
   "interpreter": {
    "hash": "fcb5643d9d9794343e44f073e77ee314cc95bb98819ed6ed7cd6b0e7cc054a9d"
   }
  }
 },
 "nbformat": 4,
 "nbformat_minor": 2
}
