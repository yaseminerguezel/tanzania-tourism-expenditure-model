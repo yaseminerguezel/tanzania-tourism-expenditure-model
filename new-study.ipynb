{
 "cells": [
  {
   "cell_type": "code",
   "execution_count": 102,
   "metadata": {},
   "outputs": [],
   "source": [
    "import pandas as pd\n",
    "import numpy as np\n",
    "import matplotlib.pyplot as plt\n",
    "import seaborn as sns\n",
    "import warnings\n",
    "warnings.filterwarnings(\"ignore\")\n",
    "from sklearn.metrics import log_loss, accuracy_score, classification_report, roc_auc_score, \\\n",
    "confusion_matrix, ConfusionMatrixDisplay\n",
    "from sklearn.model_selection import train_test_split, cross_validate\n",
    "from sklearn.linear_model import LogisticRegression\n",
    "from sklearn.ensemble import RandomForestClassifier\n",
    "from sklearn.preprocessing import StandardScaler, OneHotEncoder\n",
    "from sklearn.compose import ColumnTransformer\n",
    "from sklearn.datasets import fetch_openml\n",
    "from sklearn.pipeline import make_pipeline\n",
    "from sklearn.impute import SimpleImputer\n",
    "from sklearn.metrics import mean_absolute_error, mean_squared_error, r2_score\n",
    "from sklearn.pipeline import Pipeline"
   ]
  },
  {
   "cell_type": "code",
   "execution_count": 12,
   "metadata": {},
   "outputs": [],
   "source": [
    "df=pd.read_csv('data/Train.csv')\n"
   ]
  },
  {
   "cell_type": "code",
   "execution_count": 13,
   "metadata": {},
   "outputs": [
    {
     "name": "stdout",
     "output_type": "stream",
     "text": [
      "<class 'pandas.core.frame.DataFrame'>\n",
      "RangeIndex: 4809 entries, 0 to 4808\n",
      "Data columns (total 23 columns):\n",
      " #   Column                 Non-Null Count  Dtype  \n",
      "---  ------                 --------------  -----  \n",
      " 0   ID                     4809 non-null   object \n",
      " 1   country                4809 non-null   object \n",
      " 2   age_group              4809 non-null   object \n",
      " 3   travel_with            3695 non-null   object \n",
      " 4   total_female           4806 non-null   float64\n",
      " 5   total_male             4804 non-null   float64\n",
      " 6   purpose                4809 non-null   object \n",
      " 7   main_activity          4809 non-null   object \n",
      " 8   info_source            4809 non-null   object \n",
      " 9   tour_arrangement       4809 non-null   object \n",
      " 10  package_transport_int  4809 non-null   object \n",
      " 11  package_accomodation   4809 non-null   object \n",
      " 12  package_food           4809 non-null   object \n",
      " 13  package_transport_tz   4809 non-null   object \n",
      " 14  package_sightseeing    4809 non-null   object \n",
      " 15  package_guided_tour    4809 non-null   object \n",
      " 16  package_insurance      4809 non-null   object \n",
      " 17  night_mainland         4809 non-null   float64\n",
      " 18  night_zanzibar         4809 non-null   float64\n",
      " 19  payment_mode           4809 non-null   object \n",
      " 20  first_trip_tz          4809 non-null   object \n",
      " 21  most_impressing        4496 non-null   object \n",
      " 22  total_cost             4809 non-null   float64\n",
      "dtypes: float64(5), object(18)\n",
      "memory usage: 864.2+ KB\n"
     ]
    }
   ],
   "source": [
    "df.info()"
   ]
  },
  {
   "cell_type": "code",
   "execution_count": 14,
   "metadata": {},
   "outputs": [
    {
     "data": {
      "text/plain": [
       "ID                          0\n",
       "country                     0\n",
       "age_group                   0\n",
       "travel_with              1114\n",
       "total_female                3\n",
       "total_male                  5\n",
       "purpose                     0\n",
       "main_activity               0\n",
       "info_source                 0\n",
       "tour_arrangement            0\n",
       "package_transport_int       0\n",
       "package_accomodation        0\n",
       "package_food                0\n",
       "package_transport_tz        0\n",
       "package_sightseeing         0\n",
       "package_guided_tour         0\n",
       "package_insurance           0\n",
       "night_mainland              0\n",
       "night_zanzibar              0\n",
       "payment_mode                0\n",
       "first_trip_tz               0\n",
       "most_impressing           313\n",
       "total_cost                  0\n",
       "dtype: int64"
      ]
     },
     "execution_count": 14,
     "metadata": {},
     "output_type": "execute_result"
    }
   ],
   "source": [
    "df.isna().sum()\n"
   ]
  },
  {
   "cell_type": "code",
   "execution_count": 16,
   "metadata": {},
   "outputs": [
    {
     "data": {
      "text/plain": [
       "False"
      ]
     },
     "execution_count": 16,
     "metadata": {},
     "output_type": "execute_result"
    }
   ],
   "source": [
    "df.total_female = df.total_female.fillna(1.0)\n",
    "df.total_female.isnull().any()"
   ]
  },
  {
   "cell_type": "code",
   "execution_count": 17,
   "metadata": {},
   "outputs": [
    {
     "data": {
      "text/plain": [
       "False"
      ]
     },
     "execution_count": 17,
     "metadata": {},
     "output_type": "execute_result"
    }
   ],
   "source": [
    "df.total_male = df.total_male.fillna(1.0)\n",
    "df.total_male.isnull().any()"
   ]
  },
  {
   "cell_type": "code",
   "execution_count": 18,
   "metadata": {},
   "outputs": [
    {
     "data": {
      "text/plain": [
       "Friendly People                         1541\n",
       " Wildlife                               1038\n",
       "No comments                              743\n",
       "Wonderful Country, Landscape, Nature     507\n",
       "Good service                             365\n",
       "Excellent Experience                     271\n",
       "Satisfies and Hope Come Back              31\n",
       "Name: most_impressing, dtype: int64"
      ]
     },
     "execution_count": 18,
     "metadata": {},
     "output_type": "execute_result"
    }
   ],
   "source": [
    "df.most_impressing.value_counts()"
   ]
  },
  {
   "cell_type": "code",
   "execution_count": 19,
   "metadata": {},
   "outputs": [
    {
     "data": {
      "text/plain": [
       "False"
      ]
     },
     "execution_count": 19,
     "metadata": {},
     "output_type": "execute_result"
    }
   ],
   "source": [
    "df.most_impressing = df.most_impressing.fillna(\"No comments\")\n",
    "df.most_impressing.isnull().any()"
   ]
  },
  {
   "cell_type": "code",
   "execution_count": 31,
   "metadata": {},
   "outputs": [
    {
     "data": {
      "text/plain": [
       "False"
      ]
     },
     "execution_count": 31,
     "metadata": {},
     "output_type": "execute_result"
    }
   ],
   "source": [
    "df[\"travel_with\"].fillna(\"Alone\", inplace = True)\n",
    "df['travel_with'].isnull().any()"
   ]
  },
  {
   "cell_type": "code",
   "execution_count": 21,
   "metadata": {},
   "outputs": [],
   "source": [
    "df.rename(columns={\"total_female\":\"female\",\"total_male\":\"male\", \"most_impressing\":\"customer_feedback\"}, inplace = True)\n"
   ]
  },
  {
   "cell_type": "code",
   "execution_count": 25,
   "metadata": {},
   "outputs": [
    {
     "data": {
      "text/plain": [
       "Index(['ID', 'country', 'age_group', 'travel_with', 'female', 'male',\n",
       "       'purpose', 'main_activity', 'info_source', 'tour_arrangement',\n",
       "       'package_transport_int', 'package_accomodation', 'package_food',\n",
       "       'package_transport_tz', 'package_sightseeing', 'package_guided_tour',\n",
       "       'package_insurance', 'night_mainland', 'night_zanzibar', 'payment_mode',\n",
       "       'first_trip_tz', 'customer_feedback', 'total_cost', 'total_nights',\n",
       "       'number of people'],\n",
       "      dtype='object')"
      ]
     },
     "execution_count": 25,
     "metadata": {},
     "output_type": "execute_result"
    }
   ],
   "source": [
    "df[\"total_nights\"] = df[\"night_mainland\"] + df[\"night_zanzibar\"]\n",
    "df[\"number of people\"] = df[\"female\"] + df[\"male\"]\n",
    "df.columns"
   ]
  },
  {
   "cell_type": "code",
   "execution_count": 37,
   "metadata": {},
   "outputs": [],
   "source": [
    "df.country = df.country.replace(\"SWIZERLAND\", \"SWITZERLAND\")"
   ]
  },
  {
   "cell_type": "code",
   "execution_count": 38,
   "metadata": {},
   "outputs": [],
   "source": [
    "df.country = df.country.replace(\"BURGARIA\",\"BULGARIA\")"
   ]
  },
  {
   "cell_type": "code",
   "execution_count": 39,
   "metadata": {},
   "outputs": [],
   "source": [
    "df.country = df.country.replace(\"MALT\",\"MALTA\")"
   ]
  },
  {
   "cell_type": "code",
   "execution_count": 42,
   "metadata": {},
   "outputs": [],
   "source": [
    "df.country = df.country.replace(\"DRC\",\"DEMOCRATIC REPUBLIC OF THE CONGO\")"
   ]
  },
  {
   "cell_type": "code",
   "execution_count": null,
   "metadata": {},
   "outputs": [],
   "source": [
    "\n",
    "df.country = df.country.replace(\"DRC\",\"DEMOCRATIC REPUBLIC OF THE CONGO\")"
   ]
  },
  {
   "cell_type": "code",
   "execution_count": 43,
   "metadata": {},
   "outputs": [],
   "source": [
    "df.country = df.country.replace(\"SCOTLAND\",\"UNITED KINGDOM\")"
   ]
  },
  {
   "cell_type": "code",
   "execution_count": 44,
   "metadata": {},
   "outputs": [],
   "source": [
    "df.country = df.country.replace(\"UAE\",\"UNITED ARAB EMIRATES\")"
   ]
  },
  {
   "cell_type": "code",
   "execution_count": 46,
   "metadata": {},
   "outputs": [],
   "source": [
    "df.country = df.country.replace(\"PHILIPINES\",\"PHILIPPINES\")"
   ]
  },
  {
   "cell_type": "code",
   "execution_count": 47,
   "metadata": {},
   "outputs": [],
   "source": [
    "df.country = df.country.replace(\"DJIBOUT\",\"DJIBOUTI\")"
   ]
  },
  {
   "cell_type": "code",
   "execution_count": 48,
   "metadata": {},
   "outputs": [],
   "source": [
    "df.country = df.country.replace(\"MORROCO\",\"MOROCCO\")"
   ]
  },
  {
   "cell_type": "code",
   "execution_count": 49,
   "metadata": {},
   "outputs": [
    {
     "name": "stdout",
     "output_type": "stream",
     "text": [
      "Requirement already satisfied: country-converter in ./.venv/lib/python3.9/site-packages (0.7.7)\n",
      "Requirement already satisfied: pandas>=1.0 in ./.venv/lib/python3.9/site-packages (from country-converter) (1.3.5)\n",
      "Requirement already satisfied: numpy>=1.20.0 in ./.venv/lib/python3.9/site-packages (from pandas>=1.0->country-converter) (1.22.0)\n",
      "Requirement already satisfied: pytz>=2017.3 in ./.venv/lib/python3.9/site-packages (from pandas>=1.0->country-converter) (2022.5)\n",
      "Requirement already satisfied: python-dateutil>=2.7.3 in ./.venv/lib/python3.9/site-packages (from pandas>=1.0->country-converter) (2.8.2)\n",
      "Requirement already satisfied: six>=1.5 in ./.venv/lib/python3.9/site-packages (from python-dateutil>=2.7.3->pandas>=1.0->country-converter) (1.16.0)\n"
     ]
    }
   ],
   "source": [
    "!pip install country-converter\n",
    "import country_converter as coco\n",
    "\n",
    "cc = coco.CountryConverter()\n",
    "iso3 = np.array([])\n",
    "for i in range(0, len(df)):\n",
    "    iso3= np.append(iso3, cc.convert(names=df['country'][i], to='ISO3' ))\n",
    "df['ISO3'] = pd.DataFrame(iso3) "
   ]
  },
  {
   "cell_type": "code",
   "execution_count": 51,
   "metadata": {},
   "outputs": [
    {
     "data": {
      "text/plain": [
       "Index(['ID', 'country', 'age_group', 'travel_with', 'female', 'male',\n",
       "       'purpose', 'main_activity', 'info_source', 'tour_arrangement',\n",
       "       'package_transport_int', 'package_accomodation', 'package_food',\n",
       "       'package_transport_tz', 'package_sightseeing', 'package_guided_tour',\n",
       "       'package_insurance', 'night_mainland', 'night_zanzibar', 'payment_mode',\n",
       "       'first_trip_tz', 'customer_feedback', 'total_cost', 'total_nights',\n",
       "       'number of people', 'ISO3', 'continent'],\n",
       "      dtype='object')"
      ]
     },
     "execution_count": 51,
     "metadata": {},
     "output_type": "execute_result"
    }
   ],
   "source": [
    "cc = coco.CountryConverter()\n",
    "continent = np.array([])\n",
    "for i in range(0, len(df)):\n",
    "    continent = np.append(continent, cc.convert(names=df['country'][i], to='Continent' ))\n",
    "df['continent'] = pd.DataFrame(continent) \n",
    "df.columns"
   ]
  },
  {
   "cell_type": "code",
   "execution_count": 52,
   "metadata": {},
   "outputs": [
    {
     "data": {
      "text/html": [
       "<div>\n",
       "<style scoped>\n",
       "    .dataframe tbody tr th:only-of-type {\n",
       "        vertical-align: middle;\n",
       "    }\n",
       "\n",
       "    .dataframe tbody tr th {\n",
       "        vertical-align: top;\n",
       "    }\n",
       "\n",
       "    .dataframe thead th {\n",
       "        text-align: right;\n",
       "    }\n",
       "</style>\n",
       "<table border=\"1\" class=\"dataframe\">\n",
       "  <thead>\n",
       "    <tr style=\"text-align: right;\">\n",
       "      <th></th>\n",
       "      <th>ID</th>\n",
       "      <th>country</th>\n",
       "      <th>age_group</th>\n",
       "      <th>travel_with</th>\n",
       "      <th>female</th>\n",
       "      <th>male</th>\n",
       "      <th>purpose</th>\n",
       "      <th>main_activity</th>\n",
       "      <th>info_source</th>\n",
       "      <th>tour_arrangement</th>\n",
       "      <th>...</th>\n",
       "      <th>night_mainland</th>\n",
       "      <th>night_zanzibar</th>\n",
       "      <th>payment_mode</th>\n",
       "      <th>first_trip_tz</th>\n",
       "      <th>customer_feedback</th>\n",
       "      <th>total_cost</th>\n",
       "      <th>total_nights</th>\n",
       "      <th>number of people</th>\n",
       "      <th>ISO3</th>\n",
       "      <th>continent</th>\n",
       "    </tr>\n",
       "  </thead>\n",
       "  <tbody>\n",
       "    <tr>\n",
       "      <th>0</th>\n",
       "      <td>tour_0</td>\n",
       "      <td>SWITZERLAND</td>\n",
       "      <td>45-64</td>\n",
       "      <td>Friends/Relatives</td>\n",
       "      <td>1.0</td>\n",
       "      <td>1.0</td>\n",
       "      <td>Leisure and Holidays</td>\n",
       "      <td>Wildlife tourism</td>\n",
       "      <td>Friends, relatives</td>\n",
       "      <td>Independent</td>\n",
       "      <td>...</td>\n",
       "      <td>13.0</td>\n",
       "      <td>0.0</td>\n",
       "      <td>Cash</td>\n",
       "      <td>No</td>\n",
       "      <td>Friendly People</td>\n",
       "      <td>674602.5</td>\n",
       "      <td>13.0</td>\n",
       "      <td>2.0</td>\n",
       "      <td>CHE</td>\n",
       "      <td>Europe</td>\n",
       "    </tr>\n",
       "    <tr>\n",
       "      <th>1</th>\n",
       "      <td>tour_10</td>\n",
       "      <td>UNITED KINGDOM</td>\n",
       "      <td>25-44</td>\n",
       "      <td>Alone</td>\n",
       "      <td>1.0</td>\n",
       "      <td>0.0</td>\n",
       "      <td>Leisure and Holidays</td>\n",
       "      <td>Cultural tourism</td>\n",
       "      <td>others</td>\n",
       "      <td>Independent</td>\n",
       "      <td>...</td>\n",
       "      <td>14.0</td>\n",
       "      <td>7.0</td>\n",
       "      <td>Cash</td>\n",
       "      <td>Yes</td>\n",
       "      <td>Wonderful Country, Landscape, Nature</td>\n",
       "      <td>3214906.5</td>\n",
       "      <td>21.0</td>\n",
       "      <td>1.0</td>\n",
       "      <td>GBR</td>\n",
       "      <td>Europe</td>\n",
       "    </tr>\n",
       "    <tr>\n",
       "      <th>2</th>\n",
       "      <td>tour_1000</td>\n",
       "      <td>UNITED KINGDOM</td>\n",
       "      <td>25-44</td>\n",
       "      <td>Alone</td>\n",
       "      <td>0.0</td>\n",
       "      <td>1.0</td>\n",
       "      <td>Visiting Friends and Relatives</td>\n",
       "      <td>Cultural tourism</td>\n",
       "      <td>Friends, relatives</td>\n",
       "      <td>Independent</td>\n",
       "      <td>...</td>\n",
       "      <td>1.0</td>\n",
       "      <td>31.0</td>\n",
       "      <td>Cash</td>\n",
       "      <td>No</td>\n",
       "      <td>Excellent Experience</td>\n",
       "      <td>3315000.0</td>\n",
       "      <td>32.0</td>\n",
       "      <td>1.0</td>\n",
       "      <td>GBR</td>\n",
       "      <td>Europe</td>\n",
       "    </tr>\n",
       "    <tr>\n",
       "      <th>3</th>\n",
       "      <td>tour_1002</td>\n",
       "      <td>UNITED KINGDOM</td>\n",
       "      <td>25-44</td>\n",
       "      <td>Spouse</td>\n",
       "      <td>1.0</td>\n",
       "      <td>1.0</td>\n",
       "      <td>Leisure and Holidays</td>\n",
       "      <td>Wildlife tourism</td>\n",
       "      <td>Travel, agent, tour operator</td>\n",
       "      <td>Package Tour</td>\n",
       "      <td>...</td>\n",
       "      <td>11.0</td>\n",
       "      <td>0.0</td>\n",
       "      <td>Cash</td>\n",
       "      <td>Yes</td>\n",
       "      <td>Friendly People</td>\n",
       "      <td>7790250.0</td>\n",
       "      <td>11.0</td>\n",
       "      <td>2.0</td>\n",
       "      <td>GBR</td>\n",
       "      <td>Europe</td>\n",
       "    </tr>\n",
       "    <tr>\n",
       "      <th>4</th>\n",
       "      <td>tour_1004</td>\n",
       "      <td>CHINA</td>\n",
       "      <td>1-24</td>\n",
       "      <td>Alone</td>\n",
       "      <td>1.0</td>\n",
       "      <td>0.0</td>\n",
       "      <td>Leisure and Holidays</td>\n",
       "      <td>Wildlife tourism</td>\n",
       "      <td>Travel, agent, tour operator</td>\n",
       "      <td>Independent</td>\n",
       "      <td>...</td>\n",
       "      <td>7.0</td>\n",
       "      <td>4.0</td>\n",
       "      <td>Cash</td>\n",
       "      <td>Yes</td>\n",
       "      <td>No comments</td>\n",
       "      <td>1657500.0</td>\n",
       "      <td>11.0</td>\n",
       "      <td>1.0</td>\n",
       "      <td>CHN</td>\n",
       "      <td>Asia</td>\n",
       "    </tr>\n",
       "  </tbody>\n",
       "</table>\n",
       "<p>5 rows × 27 columns</p>\n",
       "</div>"
      ],
      "text/plain": [
       "          ID         country age_group        travel_with  female  male  \\\n",
       "0     tour_0     SWITZERLAND     45-64  Friends/Relatives     1.0   1.0   \n",
       "1    tour_10  UNITED KINGDOM     25-44              Alone     1.0   0.0   \n",
       "2  tour_1000  UNITED KINGDOM     25-44              Alone     0.0   1.0   \n",
       "3  tour_1002  UNITED KINGDOM     25-44             Spouse     1.0   1.0   \n",
       "4  tour_1004           CHINA      1-24              Alone     1.0   0.0   \n",
       "\n",
       "                          purpose     main_activity  \\\n",
       "0            Leisure and Holidays  Wildlife tourism   \n",
       "1            Leisure and Holidays  Cultural tourism   \n",
       "2  Visiting Friends and Relatives  Cultural tourism   \n",
       "3            Leisure and Holidays  Wildlife tourism   \n",
       "4            Leisure and Holidays  Wildlife tourism   \n",
       "\n",
       "                    info_source tour_arrangement  ... night_mainland  \\\n",
       "0            Friends, relatives      Independent  ...           13.0   \n",
       "1                        others      Independent  ...           14.0   \n",
       "2            Friends, relatives      Independent  ...            1.0   \n",
       "3  Travel, agent, tour operator     Package Tour  ...           11.0   \n",
       "4  Travel, agent, tour operator      Independent  ...            7.0   \n",
       "\n",
       "  night_zanzibar payment_mode first_trip_tz  \\\n",
       "0            0.0         Cash            No   \n",
       "1            7.0         Cash           Yes   \n",
       "2           31.0         Cash            No   \n",
       "3            0.0         Cash           Yes   \n",
       "4            4.0         Cash           Yes   \n",
       "\n",
       "                      customer_feedback total_cost total_nights  \\\n",
       "0                       Friendly People   674602.5         13.0   \n",
       "1  Wonderful Country, Landscape, Nature  3214906.5         21.0   \n",
       "2                  Excellent Experience  3315000.0         32.0   \n",
       "3                       Friendly People  7790250.0         11.0   \n",
       "4                           No comments  1657500.0         11.0   \n",
       "\n",
       "   number of people  ISO3 continent  \n",
       "0               2.0   CHE    Europe  \n",
       "1               1.0   GBR    Europe  \n",
       "2               1.0   GBR    Europe  \n",
       "3               2.0   GBR    Europe  \n",
       "4               1.0   CHN      Asia  \n",
       "\n",
       "[5 rows x 27 columns]"
      ]
     },
     "execution_count": 52,
     "metadata": {},
     "output_type": "execute_result"
    }
   ],
   "source": [
    "df.head()"
   ]
  },
  {
   "cell_type": "code",
   "execution_count": 53,
   "metadata": {},
   "outputs": [
    {
     "data": {
      "text/html": [
       "<div>\n",
       "<style scoped>\n",
       "    .dataframe tbody tr th:only-of-type {\n",
       "        vertical-align: middle;\n",
       "    }\n",
       "\n",
       "    .dataframe tbody tr th {\n",
       "        vertical-align: top;\n",
       "    }\n",
       "\n",
       "    .dataframe thead th {\n",
       "        text-align: right;\n",
       "    }\n",
       "</style>\n",
       "<table border=\"1\" class=\"dataframe\">\n",
       "  <thead>\n",
       "    <tr style=\"text-align: right;\">\n",
       "      <th></th>\n",
       "      <th>ID</th>\n",
       "      <th>country</th>\n",
       "      <th>age_group</th>\n",
       "      <th>travel_with</th>\n",
       "      <th>female</th>\n",
       "      <th>male</th>\n",
       "      <th>purpose</th>\n",
       "      <th>main_activity</th>\n",
       "      <th>info_source</th>\n",
       "      <th>tour_arrangement</th>\n",
       "      <th>...</th>\n",
       "      <th>night_zanzibar</th>\n",
       "      <th>payment_mode</th>\n",
       "      <th>first_trip_tz</th>\n",
       "      <th>customer_feedback</th>\n",
       "      <th>total_cost</th>\n",
       "      <th>total_nights</th>\n",
       "      <th>number of people</th>\n",
       "      <th>ISO3</th>\n",
       "      <th>continent</th>\n",
       "      <th>total_cost_euro</th>\n",
       "    </tr>\n",
       "  </thead>\n",
       "  <tbody>\n",
       "    <tr>\n",
       "      <th>0</th>\n",
       "      <td>tour_0</td>\n",
       "      <td>SWITZERLAND</td>\n",
       "      <td>45-64</td>\n",
       "      <td>Friends/Relatives</td>\n",
       "      <td>1.0</td>\n",
       "      <td>1.0</td>\n",
       "      <td>Leisure and Holidays</td>\n",
       "      <td>Wildlife tourism</td>\n",
       "      <td>Friends, relatives</td>\n",
       "      <td>Independent</td>\n",
       "      <td>...</td>\n",
       "      <td>0.0</td>\n",
       "      <td>Cash</td>\n",
       "      <td>No</td>\n",
       "      <td>Friendly People</td>\n",
       "      <td>674602.5</td>\n",
       "      <td>13.0</td>\n",
       "      <td>2.0</td>\n",
       "      <td>CHE</td>\n",
       "      <td>Europe</td>\n",
       "      <td>296.82510</td>\n",
       "    </tr>\n",
       "    <tr>\n",
       "      <th>1</th>\n",
       "      <td>tour_10</td>\n",
       "      <td>UNITED KINGDOM</td>\n",
       "      <td>25-44</td>\n",
       "      <td>Alone</td>\n",
       "      <td>1.0</td>\n",
       "      <td>0.0</td>\n",
       "      <td>Leisure and Holidays</td>\n",
       "      <td>Cultural tourism</td>\n",
       "      <td>others</td>\n",
       "      <td>Independent</td>\n",
       "      <td>...</td>\n",
       "      <td>7.0</td>\n",
       "      <td>Cash</td>\n",
       "      <td>Yes</td>\n",
       "      <td>Wonderful Country, Landscape, Nature</td>\n",
       "      <td>3214906.5</td>\n",
       "      <td>21.0</td>\n",
       "      <td>1.0</td>\n",
       "      <td>GBR</td>\n",
       "      <td>Europe</td>\n",
       "      <td>1414.55886</td>\n",
       "    </tr>\n",
       "    <tr>\n",
       "      <th>2</th>\n",
       "      <td>tour_1000</td>\n",
       "      <td>UNITED KINGDOM</td>\n",
       "      <td>25-44</td>\n",
       "      <td>Alone</td>\n",
       "      <td>0.0</td>\n",
       "      <td>1.0</td>\n",
       "      <td>Visiting Friends and Relatives</td>\n",
       "      <td>Cultural tourism</td>\n",
       "      <td>Friends, relatives</td>\n",
       "      <td>Independent</td>\n",
       "      <td>...</td>\n",
       "      <td>31.0</td>\n",
       "      <td>Cash</td>\n",
       "      <td>No</td>\n",
       "      <td>Excellent Experience</td>\n",
       "      <td>3315000.0</td>\n",
       "      <td>32.0</td>\n",
       "      <td>1.0</td>\n",
       "      <td>GBR</td>\n",
       "      <td>Europe</td>\n",
       "      <td>1458.60000</td>\n",
       "    </tr>\n",
       "    <tr>\n",
       "      <th>3</th>\n",
       "      <td>tour_1002</td>\n",
       "      <td>UNITED KINGDOM</td>\n",
       "      <td>25-44</td>\n",
       "      <td>Spouse</td>\n",
       "      <td>1.0</td>\n",
       "      <td>1.0</td>\n",
       "      <td>Leisure and Holidays</td>\n",
       "      <td>Wildlife tourism</td>\n",
       "      <td>Travel, agent, tour operator</td>\n",
       "      <td>Package Tour</td>\n",
       "      <td>...</td>\n",
       "      <td>0.0</td>\n",
       "      <td>Cash</td>\n",
       "      <td>Yes</td>\n",
       "      <td>Friendly People</td>\n",
       "      <td>7790250.0</td>\n",
       "      <td>11.0</td>\n",
       "      <td>2.0</td>\n",
       "      <td>GBR</td>\n",
       "      <td>Europe</td>\n",
       "      <td>3427.71000</td>\n",
       "    </tr>\n",
       "    <tr>\n",
       "      <th>4</th>\n",
       "      <td>tour_1004</td>\n",
       "      <td>CHINA</td>\n",
       "      <td>1-24</td>\n",
       "      <td>Alone</td>\n",
       "      <td>1.0</td>\n",
       "      <td>0.0</td>\n",
       "      <td>Leisure and Holidays</td>\n",
       "      <td>Wildlife tourism</td>\n",
       "      <td>Travel, agent, tour operator</td>\n",
       "      <td>Independent</td>\n",
       "      <td>...</td>\n",
       "      <td>4.0</td>\n",
       "      <td>Cash</td>\n",
       "      <td>Yes</td>\n",
       "      <td>No comments</td>\n",
       "      <td>1657500.0</td>\n",
       "      <td>11.0</td>\n",
       "      <td>1.0</td>\n",
       "      <td>CHN</td>\n",
       "      <td>Asia</td>\n",
       "      <td>729.30000</td>\n",
       "    </tr>\n",
       "  </tbody>\n",
       "</table>\n",
       "<p>5 rows × 28 columns</p>\n",
       "</div>"
      ],
      "text/plain": [
       "          ID         country age_group        travel_with  female  male  \\\n",
       "0     tour_0     SWITZERLAND     45-64  Friends/Relatives     1.0   1.0   \n",
       "1    tour_10  UNITED KINGDOM     25-44              Alone     1.0   0.0   \n",
       "2  tour_1000  UNITED KINGDOM     25-44              Alone     0.0   1.0   \n",
       "3  tour_1002  UNITED KINGDOM     25-44             Spouse     1.0   1.0   \n",
       "4  tour_1004           CHINA      1-24              Alone     1.0   0.0   \n",
       "\n",
       "                          purpose     main_activity  \\\n",
       "0            Leisure and Holidays  Wildlife tourism   \n",
       "1            Leisure and Holidays  Cultural tourism   \n",
       "2  Visiting Friends and Relatives  Cultural tourism   \n",
       "3            Leisure and Holidays  Wildlife tourism   \n",
       "4            Leisure and Holidays  Wildlife tourism   \n",
       "\n",
       "                    info_source tour_arrangement  ... night_zanzibar  \\\n",
       "0            Friends, relatives      Independent  ...            0.0   \n",
       "1                        others      Independent  ...            7.0   \n",
       "2            Friends, relatives      Independent  ...           31.0   \n",
       "3  Travel, agent, tour operator     Package Tour  ...            0.0   \n",
       "4  Travel, agent, tour operator      Independent  ...            4.0   \n",
       "\n",
       "  payment_mode first_trip_tz                     customer_feedback total_cost  \\\n",
       "0         Cash            No                       Friendly People   674602.5   \n",
       "1         Cash           Yes  Wonderful Country, Landscape, Nature  3214906.5   \n",
       "2         Cash            No                  Excellent Experience  3315000.0   \n",
       "3         Cash           Yes                       Friendly People  7790250.0   \n",
       "4         Cash           Yes                           No comments  1657500.0   \n",
       "\n",
       "  total_nights number of people  ISO3  continent total_cost_euro  \n",
       "0         13.0              2.0   CHE     Europe       296.82510  \n",
       "1         21.0              1.0   GBR     Europe      1414.55886  \n",
       "2         32.0              1.0   GBR     Europe      1458.60000  \n",
       "3         11.0              2.0   GBR     Europe      3427.71000  \n",
       "4         11.0              1.0   CHN       Asia       729.30000  \n",
       "\n",
       "[5 rows x 28 columns]"
      ]
     },
     "execution_count": 53,
     "metadata": {},
     "output_type": "execute_result"
    }
   ],
   "source": [
    "df.eval('total_cost_euro = total_cost* 0.00044', inplace = True)\n",
    "df.head(5)"
   ]
  },
  {
   "cell_type": "code",
   "execution_count": 54,
   "metadata": {},
   "outputs": [],
   "source": [
    "###removing outliers Inter-quartile Range (IQR)\n",
    "###IQR = Q3-Q1\n",
    "###Lower Boundary = Q1-1.5*IQR\n",
    "###Upper Boundary = Q3+1.5*IQR"
   ]
  },
  {
   "cell_type": "code",
   "execution_count": 55,
   "metadata": {},
   "outputs": [],
   "source": [
    "###removing outliers Inter-quartile Range (IQR)\n",
    "###IQR = Q3-Q1\n",
    "###Lower Boundary = Q1-1.5*IQR\n",
    "###Upper Boundary = Q3+1.5*IQR\n",
    "\n",
    "def outliers(df,ft):\n",
    "    Q1 = df[ft].quantile(0.25)\n",
    "    Q3 = df[ft].quantile(0.75)\n",
    "    IQR = Q3 - Q1\n",
    "\n",
    "    lower_bound = Q1 - 1.5*IQR\n",
    "    upper_bound = Q3 + 1.5*IQR\n",
    "\n",
    "    ls = df.index[(df[ft] < lower_bound)| (df[ft] > upper_bound)]\n",
    "    return ls"
   ]
  },
  {
   "cell_type": "code",
   "execution_count": 57,
   "metadata": {},
   "outputs": [],
   "source": [
    "#create an empty list to store the output indices from multiple columns\n",
    "index_list = []\n",
    "for feature in ['night_mainland','night_zanzibar','total_cost_euro']:\n",
    "    index_list.extend(outliers(df,feature))"
   ]
  },
  {
   "cell_type": "code",
   "execution_count": 58,
   "metadata": {},
   "outputs": [],
   "source": [
    "def remove(df,ls):\n",
    "    ls = sorted(set(ls))\n",
    "    df = df.drop(ls)\n",
    "    return df"
   ]
  },
  {
   "cell_type": "code",
   "execution_count": 60,
   "metadata": {},
   "outputs": [],
   "source": [
    "df2 =remove(df,index_list)"
   ]
  },
  {
   "cell_type": "code",
   "execution_count": 61,
   "metadata": {},
   "outputs": [],
   "source": [
    "df2.to_csv('df3.csv',index=False)"
   ]
  },
  {
   "cell_type": "code",
   "execution_count": 63,
   "metadata": {},
   "outputs": [],
   "source": [
    "new_df3 =pd.read_csv('df3.csv')"
   ]
  },
  {
   "cell_type": "code",
   "execution_count": 64,
   "metadata": {},
   "outputs": [
    {
     "data": {
      "text/plain": [
       "(3962, 28)"
      ]
     },
     "execution_count": 64,
     "metadata": {},
     "output_type": "execute_result"
    }
   ],
   "source": [
    "new_df3.shape"
   ]
  },
  {
   "cell_type": "code",
   "execution_count": 65,
   "metadata": {},
   "outputs": [
    {
     "data": {
      "text/plain": [
       "Index(['ID', 'country', 'age_group', 'travel_with', 'female', 'male',\n",
       "       'purpose', 'main_activity', 'info_source', 'tour_arrangement',\n",
       "       'package_transport_int', 'package_accomodation', 'package_food',\n",
       "       'package_transport_tz', 'package_sightseeing', 'package_guided_tour',\n",
       "       'package_insurance', 'night_mainland', 'night_zanzibar', 'payment_mode',\n",
       "       'first_trip_tz', 'customer_feedback', 'total_cost', 'total_nights',\n",
       "       'number of people', 'ISO3', 'continent', 'total_cost_euro'],\n",
       "      dtype='object')"
      ]
     },
     "execution_count": 65,
     "metadata": {},
     "output_type": "execute_result"
    }
   ],
   "source": [
    "new_df3.columns"
   ]
  },
  {
   "cell_type": "code",
   "execution_count": 158,
   "metadata": {},
   "outputs": [],
   "source": [
    "variables = ['country', 'ISO3', 'continent', 'age_group', 'travel_with',\n",
    "       'female', 'male', 'purpose', 'main_activity', 'info_source',\n",
    "       'tour_arrangement', 'package_transport_int', 'package_accomodation',\n",
    "       'package_food', 'package_transport_tz', 'package_sightseeing',\n",
    "       'package_guided_tour', 'package_insurance', 'night_mainland',\n",
    "       'night_zanzibar', 'payment_mode', 'first_trip_tz', 'customer_feedback']\n",
    "X = new_df3[variables]\n",
    "y = new_df3.total_cost_euro\n",
    "\n",
    "\n"
   ]
  },
  {
   "cell_type": "code",
   "execution_count": 166,
   "metadata": {},
   "outputs": [],
   "source": [
    "from sklearn.linear_model import LinearRegression\n",
    "from sklearn.pipeline import make_pipeline\n",
    "from sklearn.preprocessing import OneHotEncoder\n",
    "\n",
    "\n",
    "categorical_features = [\"country\", \"ISO3\", \"continent\", \"age_group\", \"travel_with\",\n",
    "       \"purpose\", \"main_activity\", \"info_source\",\n",
    "       \"tour_arrangement\", \"package_transport_int\", \"package_accomodation\",\n",
    "       \"package_food\", \"package_transport_tz\", \"package_sightseeing\",\n",
    "       \"package_guided_tour\", \"package_insurance\",\n",
    "       \"payment_mode\", \"first_trip_tz\", \"customer_feedback\"] \n",
    "categorical_transformer =OneHotEncoder(handle_unknown=\"ignore\")\n",
    "\n",
    "preprocessor = ColumnTransformer(\n",
    "    transformers=[\n",
    "     \n",
    "        (\"cat\", categorical_transformer, categorical_features),\n",
    "    ]\n",
    ")\n",
    "    \n",
    "\n"
   ]
  },
  {
   "cell_type": "code",
   "execution_count": 168,
   "metadata": {},
   "outputs": [
    {
     "name": "stdout",
     "output_type": "stream",
     "text": [
      "model score: 0.434\n"
     ]
    }
   ],
   "source": [
    "clf = Pipeline(\n",
    "    steps=[(\"preprocessor\", preprocessor), (\"classifier\", LinearRegression())]\n",
    ")\n",
    "\n",
    "X_train, X_test, y_train, y_test = train_test_split(X, y, test_size=0.2, random_state=0)\n",
    "\n",
    "clf.fit(X_train, y_train)\n",
    "print(\"model score: %.3f\" % clf.score(X_test, y_test))\n"
   ]
  },
  {
   "cell_type": "code",
   "execution_count": 169,
   "metadata": {},
   "outputs": [
    {
     "ename": "ValueError",
     "evalue": "X has 23 features, but OneHotEncoder is expecting 20 features as input.",
     "output_type": "error",
     "traceback": [
      "\u001b[0;31m---------------------------------------------------------------------------\u001b[0m",
      "\u001b[0;31mValueError\u001b[0m                                Traceback (most recent call last)",
      "Cell \u001b[0;32mIn [169], line 1\u001b[0m\n\u001b[0;32m----> 1\u001b[0m y_pred \u001b[38;5;241m=\u001b[39m \u001b[43mmodel\u001b[49m\u001b[38;5;241;43m.\u001b[39;49m\u001b[43mpredict\u001b[49m\u001b[43m(\u001b[49m\u001b[43mX_test\u001b[49m\u001b[43m)\u001b[49m\n\u001b[1;32m      2\u001b[0m y_pred\n",
      "File \u001b[0;32m~/neuefische/Tourisim-Exp-Tanzania/.venv/lib/python3.9/site-packages/sklearn/utils/metaestimators.py:113\u001b[0m, in \u001b[0;36m_AvailableIfDescriptor.__get__.<locals>.<lambda>\u001b[0;34m(*args, **kwargs)\u001b[0m\n\u001b[1;32m    110\u001b[0m         \u001b[39mraise\u001b[39;00m attr_err\n\u001b[1;32m    112\u001b[0m     \u001b[39m# lambda, but not partial, allows help() to work with update_wrapper\u001b[39;00m\n\u001b[0;32m--> 113\u001b[0m     out \u001b[39m=\u001b[39m \u001b[39mlambda\u001b[39;00m \u001b[39m*\u001b[39margs, \u001b[39m*\u001b[39m\u001b[39m*\u001b[39mkwargs: \u001b[39mself\u001b[39;49m\u001b[39m.\u001b[39;49mfn(obj, \u001b[39m*\u001b[39;49margs, \u001b[39m*\u001b[39;49m\u001b[39m*\u001b[39;49mkwargs)  \u001b[39m# noqa\u001b[39;00m\n\u001b[1;32m    114\u001b[0m \u001b[39melse\u001b[39;00m:\n\u001b[1;32m    116\u001b[0m     \u001b[39mdef\u001b[39;00m \u001b[39mfn\u001b[39m(\u001b[39m*\u001b[39margs, \u001b[39m*\u001b[39m\u001b[39m*\u001b[39mkwargs):\n",
      "File \u001b[0;32m~/neuefische/Tourisim-Exp-Tanzania/.venv/lib/python3.9/site-packages/sklearn/pipeline.py:469\u001b[0m, in \u001b[0;36mPipeline.predict\u001b[0;34m(self, X, **predict_params)\u001b[0m\n\u001b[1;32m    467\u001b[0m Xt \u001b[39m=\u001b[39m X\n\u001b[1;32m    468\u001b[0m \u001b[39mfor\u001b[39;00m _, name, transform \u001b[39min\u001b[39;00m \u001b[39mself\u001b[39m\u001b[39m.\u001b[39m_iter(with_final\u001b[39m=\u001b[39m\u001b[39mFalse\u001b[39;00m):\n\u001b[0;32m--> 469\u001b[0m     Xt \u001b[39m=\u001b[39m transform\u001b[39m.\u001b[39;49mtransform(Xt)\n\u001b[1;32m    470\u001b[0m \u001b[39mreturn\u001b[39;00m \u001b[39mself\u001b[39m\u001b[39m.\u001b[39msteps[\u001b[39m-\u001b[39m\u001b[39m1\u001b[39m][\u001b[39m1\u001b[39m]\u001b[39m.\u001b[39mpredict(Xt, \u001b[39m*\u001b[39m\u001b[39m*\u001b[39mpredict_params)\n",
      "File \u001b[0;32m~/neuefische/Tourisim-Exp-Tanzania/.venv/lib/python3.9/site-packages/sklearn/preprocessing/_encoders.py:509\u001b[0m, in \u001b[0;36mOneHotEncoder.transform\u001b[0;34m(self, X)\u001b[0m\n\u001b[1;32m    507\u001b[0m \u001b[39m# validation of X happens in _check_X called by _transform\u001b[39;00m\n\u001b[1;32m    508\u001b[0m warn_on_unknown \u001b[39m=\u001b[39m \u001b[39mself\u001b[39m\u001b[39m.\u001b[39mhandle_unknown \u001b[39m==\u001b[39m \u001b[39m\"\u001b[39m\u001b[39mignore\u001b[39m\u001b[39m\"\u001b[39m \u001b[39mand\u001b[39;00m \u001b[39mself\u001b[39m\u001b[39m.\u001b[39mdrop \u001b[39mis\u001b[39;00m \u001b[39mnot\u001b[39;00m \u001b[39mNone\u001b[39;00m\n\u001b[0;32m--> 509\u001b[0m X_int, X_mask \u001b[39m=\u001b[39m \u001b[39mself\u001b[39;49m\u001b[39m.\u001b[39;49m_transform(\n\u001b[1;32m    510\u001b[0m     X,\n\u001b[1;32m    511\u001b[0m     handle_unknown\u001b[39m=\u001b[39;49m\u001b[39mself\u001b[39;49m\u001b[39m.\u001b[39;49mhandle_unknown,\n\u001b[1;32m    512\u001b[0m     force_all_finite\u001b[39m=\u001b[39;49m\u001b[39m\"\u001b[39;49m\u001b[39mallow-nan\u001b[39;49m\u001b[39m\"\u001b[39;49m,\n\u001b[1;32m    513\u001b[0m     warn_on_unknown\u001b[39m=\u001b[39;49mwarn_on_unknown,\n\u001b[1;32m    514\u001b[0m )\n\u001b[1;32m    516\u001b[0m n_samples, n_features \u001b[39m=\u001b[39m X_int\u001b[39m.\u001b[39mshape\n\u001b[1;32m    518\u001b[0m \u001b[39mif\u001b[39;00m \u001b[39mself\u001b[39m\u001b[39m.\u001b[39mdrop_idx_ \u001b[39mis\u001b[39;00m \u001b[39mnot\u001b[39;00m \u001b[39mNone\u001b[39;00m:\n",
      "File \u001b[0;32m~/neuefische/Tourisim-Exp-Tanzania/.venv/lib/python3.9/site-packages/sklearn/preprocessing/_encoders.py:123\u001b[0m, in \u001b[0;36m_BaseEncoder._transform\u001b[0;34m(self, X, handle_unknown, force_all_finite, warn_on_unknown)\u001b[0m\n\u001b[1;32m    119\u001b[0m \u001b[39mdef\u001b[39;00m \u001b[39m_transform\u001b[39m(\n\u001b[1;32m    120\u001b[0m     \u001b[39mself\u001b[39m, X, handle_unknown\u001b[39m=\u001b[39m\u001b[39m\"\u001b[39m\u001b[39merror\u001b[39m\u001b[39m\"\u001b[39m, force_all_finite\u001b[39m=\u001b[39m\u001b[39mTrue\u001b[39;00m, warn_on_unknown\u001b[39m=\u001b[39m\u001b[39mFalse\u001b[39;00m\n\u001b[1;32m    121\u001b[0m ):\n\u001b[1;32m    122\u001b[0m     \u001b[39mself\u001b[39m\u001b[39m.\u001b[39m_check_feature_names(X, reset\u001b[39m=\u001b[39m\u001b[39mFalse\u001b[39;00m)\n\u001b[0;32m--> 123\u001b[0m     \u001b[39mself\u001b[39;49m\u001b[39m.\u001b[39;49m_check_n_features(X, reset\u001b[39m=\u001b[39;49m\u001b[39mFalse\u001b[39;49;00m)\n\u001b[1;32m    124\u001b[0m     X_list, n_samples, n_features \u001b[39m=\u001b[39m \u001b[39mself\u001b[39m\u001b[39m.\u001b[39m_check_X(\n\u001b[1;32m    125\u001b[0m         X, force_all_finite\u001b[39m=\u001b[39mforce_all_finite\n\u001b[1;32m    126\u001b[0m     )\n\u001b[1;32m    128\u001b[0m     X_int \u001b[39m=\u001b[39m np\u001b[39m.\u001b[39mzeros((n_samples, n_features), dtype\u001b[39m=\u001b[39m\u001b[39mint\u001b[39m)\n",
      "File \u001b[0;32m~/neuefische/Tourisim-Exp-Tanzania/.venv/lib/python3.9/site-packages/sklearn/base.py:400\u001b[0m, in \u001b[0;36mBaseEstimator._check_n_features\u001b[0;34m(self, X, reset)\u001b[0m\n\u001b[1;32m    397\u001b[0m     \u001b[39mreturn\u001b[39;00m\n\u001b[1;32m    399\u001b[0m \u001b[39mif\u001b[39;00m n_features \u001b[39m!=\u001b[39m \u001b[39mself\u001b[39m\u001b[39m.\u001b[39mn_features_in_:\n\u001b[0;32m--> 400\u001b[0m     \u001b[39mraise\u001b[39;00m \u001b[39mValueError\u001b[39;00m(\n\u001b[1;32m    401\u001b[0m         \u001b[39mf\u001b[39m\u001b[39m\"\u001b[39m\u001b[39mX has \u001b[39m\u001b[39m{\u001b[39;00mn_features\u001b[39m}\u001b[39;00m\u001b[39m features, but \u001b[39m\u001b[39m{\u001b[39;00m\u001b[39mself\u001b[39m\u001b[39m.\u001b[39m\u001b[39m__class__\u001b[39m\u001b[39m.\u001b[39m\u001b[39m__name__\u001b[39m\u001b[39m}\u001b[39;00m\u001b[39m \u001b[39m\u001b[39m\"\u001b[39m\n\u001b[1;32m    402\u001b[0m         \u001b[39mf\u001b[39m\u001b[39m\"\u001b[39m\u001b[39mis expecting \u001b[39m\u001b[39m{\u001b[39;00m\u001b[39mself\u001b[39m\u001b[39m.\u001b[39mn_features_in_\u001b[39m}\u001b[39;00m\u001b[39m features as input.\u001b[39m\u001b[39m\"\u001b[39m\n\u001b[1;32m    403\u001b[0m     )\n",
      "\u001b[0;31mValueError\u001b[0m: X has 23 features, but OneHotEncoder is expecting 20 features as input."
     ]
    }
   ],
   "source": [
    "y_pred = model.predict(X_test)\n",
    "y_pred"
   ]
  },
  {
   "cell_type": "code",
   "execution_count": 70,
   "metadata": {},
   "outputs": [
    {
     "name": "stdout",
     "output_type": "stream",
     "text": [
      "MSE: 19610164052452.88\n",
      "RMSE: 4428336.488169444\n",
      "R2: 0.40612882075350765\n"
     ]
    }
   ],
   "source": [
    "mse = mean_squared_error(y_test, y_pred)\n",
    "print(\"MSE:\", mse)\n",
    "\n",
    "rmse = np.sqrt(mse)\n",
    "print(\"RMSE:\", rmse)\n",
    "\n",
    "r2 = r2_score(y_test, y_pred)\n",
    "print(\"R2:\", r2)"
   ]
  },
  {
   "cell_type": "code",
   "execution_count": 72,
   "metadata": {},
   "outputs": [],
   "source": [
    "customer_segmentation = []\n",
    "for row in new_df3['total_cost_euro']:\n",
    "        if row < 5000 :    customer_segmentation.append('low cost')\n",
    "        elif row < 10000:  customer_segmentation.append('medium cost')\n",
    "        else:      customer_segmentation.append('high cost')"
   ]
  },
  {
   "cell_type": "code",
   "execution_count": 75,
   "metadata": {},
   "outputs": [],
   "source": [
    "new_df3['customer_segmentation'] = customer_segmentation\n"
   ]
  },
  {
   "cell_type": "code",
   "execution_count": 150,
   "metadata": {},
   "outputs": [],
   "source": [
    "\n",
    "variables = [\"country\",\n",
    "\"continent\",         \n",
    "\"age_group\",     \n",
    "\"travel_with\",   \n",
    "\"total_nights\",                \n",
    "\"purpose\",     \n",
    "\"main_activity\", \n",
    "\"info_source\",\n",
    "\"tour_arrangement\",   \n",
    "\"package_transport_int\",    \n",
    "\"package_accomodation\",    \n",
    "\"package_food\",          \n",
    "\"package_transport_tz\",   \n",
    "\"package_sightseeing\",      \n",
    "\"package_guided_tour\",      \n",
    "\"package_insurance\",\n",
    "\"night_mainland\",\n",
    "\"night_zanzibar\",\n",
    "\"total_nights\",\n",
    "\"first_trip_tz\"]\n",
    "\n",
    "X = new_df3[variables]\n",
    "y = new_df3.customer_segmentation\n"
   ]
  },
  {
   "cell_type": "code",
   "execution_count": null,
   "metadata": {},
   "outputs": [],
   "source": []
  },
  {
   "cell_type": "code",
   "execution_count": 151,
   "metadata": {},
   "outputs": [],
   "source": [
    "\n",
    "\n",
    "categorical_features = [ \n",
    "\"continent\",         \n",
    "\"age_group\",     \n",
    "\"travel_with\",                   \n",
    "\"purpose\",     \n",
    "\"main_activity\", \n",
    "\"info_source\",\n",
    "\"tour_arrangement\",   \n",
    "\"package_transport_int\",    \n",
    "\"package_accomodation\",    \n",
    "\"package_food\",          \n",
    "\"package_transport_tz\",   \n",
    "\"package_sightseeing\",      \n",
    "\"package_guided_tour\",      \n",
    "\"package_insurance\",\n",
    "\"first_trip_tz\"]\n",
    "categorical_transformer =OneHotEncoder(handle_unknown=\"ignore\")\n",
    "\n",
    "preprocessor = ColumnTransformer(\n",
    "    transformers=[\n",
    "     \n",
    "        (\"cat\", categorical_transformer, categorical_features),\n",
    "    ]\n",
    ")\n",
    "    \n"
   ]
  },
  {
   "cell_type": "code",
   "execution_count": 152,
   "metadata": {},
   "outputs": [
    {
     "name": "stdout",
     "output_type": "stream",
     "text": [
      "model score: 0.864\n"
     ]
    }
   ],
   "source": [
    "clf = Pipeline(\n",
    "    steps=[(\"preprocessor\", preprocessor), (\"classifier\", LogisticRegression())]\n",
    ")\n",
    "\n",
    "X_train, X_test, y_train, y_test = train_test_split(X, y, test_size=0.2, random_state=0)\n",
    "\n",
    "clf.fit(X_train, y_train)\n",
    "print(\"model score: %.3f\" % clf.score(X_test, y_test))\n"
   ]
  },
  {
   "cell_type": "code",
   "execution_count": 135,
   "metadata": {},
   "outputs": [
    {
     "data": {
      "text/plain": [
       "array(['low cost', 'low cost', 'low cost', 'low cost', 'low cost',\n",
       "       'low cost', 'medium cost', 'low cost', 'low cost', 'low cost',\n",
       "       'low cost', 'low cost', 'low cost', 'low cost', 'low cost',\n",
       "       'low cost', 'low cost', 'low cost', 'low cost', 'low cost',\n",
       "       'low cost', 'low cost', 'low cost', 'low cost', 'low cost',\n",
       "       'low cost', 'medium cost', 'low cost', 'low cost', 'low cost',\n",
       "       'low cost', 'low cost', 'medium cost', 'low cost', 'low cost',\n",
       "       'low cost', 'low cost', 'low cost', 'low cost', 'low cost',\n",
       "       'low cost', 'low cost', 'low cost', 'low cost', 'medium cost',\n",
       "       'low cost', 'low cost', 'low cost', 'low cost', 'low cost',\n",
       "       'low cost', 'low cost', 'low cost', 'low cost', 'low cost',\n",
       "       'low cost', 'low cost', 'low cost', 'low cost', 'low cost',\n",
       "       'low cost', 'low cost', 'low cost', 'low cost', 'low cost',\n",
       "       'low cost', 'low cost', 'low cost', 'low cost', 'low cost',\n",
       "       'low cost', 'low cost', 'low cost', 'low cost', 'low cost',\n",
       "       'low cost', 'low cost', 'low cost', 'low cost', 'low cost',\n",
       "       'low cost', 'medium cost', 'low cost', 'low cost', 'low cost',\n",
       "       'low cost', 'low cost', 'low cost', 'low cost', 'medium cost',\n",
       "       'low cost', 'low cost', 'medium cost', 'low cost', 'medium cost',\n",
       "       'low cost', 'low cost', 'low cost', 'low cost', 'low cost',\n",
       "       'low cost', 'low cost', 'low cost', 'low cost', 'low cost',\n",
       "       'low cost', 'low cost', 'low cost', 'low cost', 'low cost',\n",
       "       'low cost', 'low cost', 'low cost', 'low cost', 'low cost',\n",
       "       'low cost', 'low cost', 'low cost', 'low cost', 'low cost',\n",
       "       'low cost', 'low cost', 'low cost', 'low cost', 'low cost',\n",
       "       'low cost', 'low cost', 'medium cost', 'low cost', 'low cost',\n",
       "       'low cost', 'low cost', 'low cost', 'low cost', 'low cost',\n",
       "       'low cost', 'low cost', 'medium cost', 'low cost', 'low cost',\n",
       "       'low cost', 'low cost', 'low cost', 'low cost', 'low cost',\n",
       "       'low cost', 'low cost', 'low cost', 'low cost', 'low cost',\n",
       "       'low cost', 'low cost', 'low cost', 'medium cost', 'low cost',\n",
       "       'low cost', 'low cost', 'low cost', 'low cost', 'low cost',\n",
       "       'low cost', 'low cost', 'low cost', 'low cost', 'low cost',\n",
       "       'low cost', 'low cost', 'low cost', 'low cost', 'low cost',\n",
       "       'low cost', 'low cost', 'medium cost', 'low cost', 'low cost',\n",
       "       'low cost', 'low cost', 'low cost', 'low cost', 'low cost',\n",
       "       'low cost', 'low cost', 'low cost', 'low cost', 'low cost',\n",
       "       'low cost', 'low cost', 'low cost', 'low cost', 'low cost',\n",
       "       'low cost', 'low cost', 'low cost', 'low cost', 'low cost',\n",
       "       'low cost', 'low cost', 'low cost', 'low cost', 'low cost',\n",
       "       'low cost', 'low cost', 'low cost', 'low cost', 'low cost',\n",
       "       'low cost', 'low cost', 'low cost', 'low cost', 'low cost',\n",
       "       'low cost', 'low cost', 'low cost', 'low cost', 'low cost',\n",
       "       'low cost', 'low cost', 'low cost', 'low cost', 'low cost',\n",
       "       'low cost', 'low cost', 'low cost', 'low cost', 'low cost',\n",
       "       'low cost', 'low cost', 'low cost', 'low cost', 'low cost',\n",
       "       'low cost', 'low cost', 'low cost', 'low cost', 'low cost',\n",
       "       'low cost', 'low cost', 'low cost', 'low cost', 'low cost',\n",
       "       'low cost', 'low cost', 'low cost', 'low cost', 'low cost',\n",
       "       'low cost', 'low cost', 'low cost', 'low cost', 'low cost',\n",
       "       'low cost', 'low cost', 'low cost', 'low cost', 'low cost',\n",
       "       'low cost', 'low cost', 'low cost', 'medium cost', 'medium cost',\n",
       "       'low cost', 'low cost', 'low cost', 'low cost', 'low cost',\n",
       "       'low cost', 'low cost', 'low cost', 'low cost', 'low cost',\n",
       "       'low cost', 'low cost', 'low cost', 'low cost', 'low cost',\n",
       "       'low cost', 'low cost', 'low cost', 'low cost', 'low cost',\n",
       "       'low cost', 'low cost', 'low cost', 'low cost', 'low cost',\n",
       "       'low cost', 'low cost', 'low cost', 'low cost', 'low cost',\n",
       "       'low cost', 'low cost', 'low cost', 'low cost', 'low cost',\n",
       "       'low cost', 'low cost', 'medium cost', 'low cost', 'low cost',\n",
       "       'low cost', 'low cost', 'low cost', 'low cost', 'low cost',\n",
       "       'low cost', 'low cost', 'low cost', 'low cost', 'low cost',\n",
       "       'medium cost', 'low cost', 'low cost', 'low cost', 'low cost',\n",
       "       'low cost', 'low cost', 'low cost', 'low cost', 'low cost',\n",
       "       'low cost', 'low cost', 'low cost', 'low cost', 'low cost',\n",
       "       'low cost', 'low cost', 'low cost', 'low cost', 'low cost',\n",
       "       'low cost', 'low cost', 'low cost', 'low cost', 'low cost',\n",
       "       'low cost', 'low cost', 'low cost', 'low cost', 'low cost',\n",
       "       'low cost', 'low cost', 'low cost', 'low cost', 'low cost',\n",
       "       'low cost', 'low cost', 'low cost', 'low cost', 'low cost',\n",
       "       'low cost', 'low cost', 'low cost', 'low cost', 'low cost',\n",
       "       'low cost', 'low cost', 'low cost', 'low cost', 'low cost',\n",
       "       'low cost', 'low cost', 'low cost', 'low cost', 'low cost',\n",
       "       'low cost', 'low cost', 'low cost', 'low cost', 'low cost',\n",
       "       'low cost', 'low cost', 'low cost', 'low cost', 'medium cost',\n",
       "       'low cost', 'low cost', 'low cost', 'low cost', 'low cost',\n",
       "       'low cost', 'low cost', 'low cost', 'low cost', 'low cost',\n",
       "       'low cost', 'low cost', 'low cost', 'low cost', 'low cost',\n",
       "       'medium cost', 'low cost', 'low cost', 'medium cost', 'low cost',\n",
       "       'low cost', 'low cost', 'low cost', 'low cost', 'low cost',\n",
       "       'medium cost', 'low cost', 'low cost', 'low cost', 'medium cost',\n",
       "       'low cost', 'low cost', 'low cost', 'low cost', 'low cost',\n",
       "       'low cost', 'low cost', 'low cost', 'medium cost', 'low cost',\n",
       "       'low cost', 'low cost', 'low cost', 'low cost', 'low cost',\n",
       "       'low cost', 'low cost', 'low cost', 'low cost', 'low cost',\n",
       "       'low cost', 'low cost', 'low cost', 'low cost', 'low cost',\n",
       "       'low cost', 'low cost', 'low cost', 'low cost', 'low cost',\n",
       "       'low cost', 'low cost', 'low cost', 'low cost', 'low cost',\n",
       "       'low cost', 'low cost', 'low cost', 'low cost', 'low cost',\n",
       "       'low cost', 'medium cost', 'low cost', 'low cost', 'low cost',\n",
       "       'low cost', 'low cost', 'low cost', 'low cost', 'low cost',\n",
       "       'medium cost', 'low cost', 'low cost', 'low cost', 'low cost',\n",
       "       'low cost', 'low cost', 'low cost', 'low cost', 'low cost',\n",
       "       'low cost', 'low cost', 'medium cost', 'low cost', 'low cost',\n",
       "       'low cost', 'low cost', 'low cost', 'low cost', 'low cost',\n",
       "       'low cost', 'low cost', 'low cost', 'low cost', 'low cost',\n",
       "       'low cost', 'low cost', 'low cost', 'low cost', 'low cost',\n",
       "       'low cost', 'low cost', 'low cost', 'low cost', 'low cost',\n",
       "       'low cost', 'medium cost', 'low cost', 'low cost', 'low cost',\n",
       "       'medium cost', 'low cost', 'low cost', 'medium cost', 'low cost',\n",
       "       'low cost', 'medium cost', 'low cost', 'low cost', 'low cost',\n",
       "       'low cost', 'low cost', 'low cost', 'low cost', 'low cost',\n",
       "       'medium cost', 'low cost', 'low cost', 'low cost', 'low cost',\n",
       "       'low cost', 'low cost', 'low cost', 'low cost', 'low cost',\n",
       "       'low cost', 'low cost', 'low cost', 'low cost', 'low cost',\n",
       "       'low cost', 'low cost', 'low cost', 'low cost', 'low cost',\n",
       "       'low cost', 'low cost', 'low cost', 'low cost', 'low cost',\n",
       "       'medium cost', 'low cost', 'low cost', 'low cost', 'low cost',\n",
       "       'low cost', 'low cost', 'low cost', 'low cost', 'low cost',\n",
       "       'low cost', 'low cost', 'low cost', 'low cost', 'low cost',\n",
       "       'low cost', 'low cost', 'medium cost', 'low cost', 'low cost',\n",
       "       'low cost', 'low cost', 'low cost', 'low cost', 'medium cost',\n",
       "       'low cost', 'low cost', 'low cost', 'low cost', 'low cost',\n",
       "       'low cost', 'low cost', 'low cost', 'low cost', 'low cost',\n",
       "       'low cost', 'low cost', 'low cost', 'low cost', 'low cost',\n",
       "       'low cost', 'low cost', 'low cost', 'low cost', 'low cost',\n",
       "       'low cost', 'low cost', 'low cost', 'low cost', 'low cost',\n",
       "       'low cost', 'low cost', 'low cost', 'low cost', 'low cost',\n",
       "       'low cost', 'low cost', 'low cost', 'low cost', 'low cost',\n",
       "       'low cost', 'low cost', 'medium cost', 'low cost', 'low cost',\n",
       "       'low cost', 'low cost', 'low cost', 'low cost', 'low cost',\n",
       "       'medium cost', 'low cost', 'low cost', 'low cost', 'low cost',\n",
       "       'low cost', 'low cost', 'low cost', 'low cost', 'low cost',\n",
       "       'low cost', 'low cost', 'low cost', 'medium cost', 'low cost',\n",
       "       'low cost', 'low cost', 'medium cost', 'low cost', 'low cost',\n",
       "       'low cost', 'low cost', 'low cost', 'low cost', 'low cost',\n",
       "       'low cost', 'medium cost', 'low cost', 'low cost', 'medium cost',\n",
       "       'low cost', 'low cost', 'low cost', 'low cost', 'low cost',\n",
       "       'low cost', 'low cost', 'low cost', 'low cost', 'low cost',\n",
       "       'medium cost', 'low cost', 'low cost', 'low cost', 'low cost',\n",
       "       'low cost', 'low cost', 'low cost', 'low cost', 'low cost',\n",
       "       'low cost', 'low cost', 'low cost', 'low cost', 'low cost',\n",
       "       'low cost', 'low cost', 'low cost', 'low cost', 'low cost',\n",
       "       'low cost', 'low cost', 'medium cost', 'low cost', 'low cost',\n",
       "       'low cost', 'low cost', 'medium cost', 'medium cost', 'low cost',\n",
       "       'low cost', 'low cost', 'low cost', 'low cost', 'low cost',\n",
       "       'low cost', 'low cost', 'low cost', 'low cost', 'low cost',\n",
       "       'low cost', 'low cost', 'low cost', 'low cost', 'low cost',\n",
       "       'low cost', 'low cost', 'low cost', 'low cost', 'low cost',\n",
       "       'low cost', 'low cost', 'low cost', 'medium cost', 'low cost',\n",
       "       'low cost', 'low cost', 'low cost', 'low cost', 'low cost',\n",
       "       'low cost', 'low cost', 'low cost', 'low cost', 'low cost',\n",
       "       'low cost', 'low cost', 'medium cost', 'low cost', 'low cost',\n",
       "       'low cost', 'low cost', 'low cost', 'low cost', 'low cost',\n",
       "       'low cost', 'low cost', 'low cost', 'medium cost', 'low cost',\n",
       "       'low cost', 'low cost', 'low cost', 'low cost', 'low cost',\n",
       "       'low cost', 'low cost', 'low cost', 'low cost', 'low cost',\n",
       "       'low cost', 'low cost', 'low cost', 'low cost', 'low cost',\n",
       "       'low cost', 'medium cost', 'low cost', 'low cost', 'low cost',\n",
       "       'low cost', 'medium cost', 'low cost', 'low cost', 'low cost',\n",
       "       'low cost', 'low cost', 'low cost', 'low cost', 'low cost',\n",
       "       'low cost', 'low cost', 'low cost', 'low cost', 'low cost',\n",
       "       'low cost', 'low cost', 'low cost', 'low cost', 'low cost',\n",
       "       'low cost', 'low cost', 'low cost', 'low cost', 'low cost',\n",
       "       'low cost', 'low cost', 'low cost', 'low cost', 'low cost',\n",
       "       'low cost', 'low cost', 'low cost', 'low cost', 'high cost',\n",
       "       'low cost', 'low cost', 'low cost', 'low cost', 'low cost',\n",
       "       'low cost', 'low cost', 'low cost', 'low cost', 'low cost',\n",
       "       'low cost', 'low cost', 'low cost'], dtype=object)"
      ]
     },
     "execution_count": 135,
     "metadata": {},
     "output_type": "execute_result"
    }
   ],
   "source": [
    "y_pred = model.predict(X_test)\n",
    "y_pred"
   ]
  },
  {
   "cell_type": "code",
   "execution_count": null,
   "metadata": {},
   "outputs": [],
   "source": []
  },
  {
   "cell_type": "code",
   "execution_count": 136,
   "metadata": {},
   "outputs": [
    {
     "name": "stdout",
     "output_type": "stream",
     "text": [
      "Accuracy score: 0.8600252206809584\n",
      "\n",
      "\n",
      "              precision    recall  f1-score   support\n",
      "\n",
      "   high cost       0.00      0.00      0.00         5\n",
      "    low cost       0.89      0.96      0.92       690\n",
      " medium cost       0.42      0.20      0.27        98\n",
      "\n",
      "    accuracy                           0.86       793\n",
      "   macro avg       0.44      0.39      0.40       793\n",
      "weighted avg       0.83      0.86      0.84       793\n",
      "\n"
     ]
    }
   ],
   "source": [
    "print(f'Accuracy score: {accuracy_score(y_test, y_pred)}')\n",
    "print('\\n')\n",
    "print(f'{classification_report(y_test, y_pred)}')"
   ]
  },
  {
   "cell_type": "code",
   "execution_count": 120,
   "metadata": {},
   "outputs": [
    {
     "data": {
      "image/png": "[encoded data removed]",
      "text/plain": [
       "<Figure size 640x480 with 2 Axes>"
      ]
     },
     "metadata": {},
     "output_type": "display_data"
    }
   ],
   "source": [
    "# Evaluate the model with a confusion matrix\n",
    "cm = confusion_matrix(y_test, y_pred,labels = model.classes_)\n",
    "sns.heatmap(cm, cmap='YlGnBu', annot=True, fmt='d', linewidths=.5,);"
   ]
  },
  {
   "cell_type": "code",
   "execution_count": null,
   "metadata": {},
   "outputs": [],
   "source": [
    "\n"
   ]
  }
 ],
 "metadata": {
  "kernelspec": {
   "display_name": "Python 3.9.8 ('.venv': venv)",
   "language": "python",
   "name": "python3"
  },
  "language_info": {
   "codemirror_mode": {
    "name": "ipython",
    "version": 3
   },
   "file_extension": ".py",
   "mimetype": "text/x-python",
   "name": "python",
   "nbconvert_exporter": "python",
   "pygments_lexer": "ipython3",
   "version": "3.9.8"
  },
  "orig_nbformat": 4,
  "vscode": {
   "interpreter": {
    "hash": "22f384b2502e23f969dd7af6cb2737deef4e459ebf36cf6d6feccab86bac372c"
   }
  }
 },
 "nbformat": 4,
 "nbformat_minor": 2
}
